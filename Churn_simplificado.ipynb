{
  "nbformat": 4,
  "nbformat_minor": 0,
  "metadata": {
    "colab": {
      "provenance": [],
      "collapsed_sections": [
        "b_EAQ1nf7VUu",
        "k-Aa41OexfBQ"
      ],
      "authorship_tag": "ABX9TyM0yHEyTs5vneWfnwQ1maeR",
      "include_colab_link": true
    },
    "kernelspec": {
      "name": "python3",
      "display_name": "Python 3"
    },
    "language_info": {
      "name": "python"
    }
  },
  "cells": [
    {
      "cell_type": "markdown",
      "metadata": {
        "id": "view-in-github",
        "colab_type": "text"
      },
      "source": [
        "<a href=\"https://colab.research.google.com/github/Elberth-Git/ml_costumer_churn/blob/main/Churn_simplificado.ipynb\" target=\"_parent\"><img src=\"https://colab.research.google.com/assets/colab-badge.svg\" alt=\"Open In Colab\"/></a>"
      ]
    },
    {
      "cell_type": "markdown",
      "metadata": {
        "id": "uOxsWL4fyQ2J"
      },
      "source": [
        "# 1 Pré-processamento\n"
      ]
    },
    {
      "cell_type": "markdown",
      "metadata": {
        "id": "vuZVqaVCyQ2M"
      },
      "source": [
        "## 1.1 - Importando os dados"
      ]
    },
    {
      "cell_type": "code",
      "source": [
        "import pandas as pd"
      ],
      "metadata": {
        "id": "0T6IR5THbDro"
      },
      "execution_count": 12,
      "outputs": []
    },
    {
      "cell_type": "code",
      "source": [
        "#dados do GitHub\n",
        "url = 'https://raw.githubusercontent.com/Elberth-Git/ml_costumer_churn/main/churn_simplificado.csv' #importação do banco de dados via URL\n",
        "dados = pd.read_csv(url) # Carregando os dados)"
      ],
      "metadata": {
        "id": "j9QQDANeV9UU"
      },
      "execution_count": 13,
      "outputs": []
    },
    {
      "cell_type": "code",
      "source": [
        "dados.shape"
      ],
      "metadata": {
        "colab": {
          "base_uri": "https://localhost:8080/"
        },
        "id": "tMNmdIqobTES",
        "outputId": "26caa3d5-89c7-45d9-a64a-7ccb92abe295"
      },
      "execution_count": 14,
      "outputs": [
        {
          "output_type": "execute_result",
          "data": {
            "text/plain": [
              "(10000, 12)"
            ]
          },
          "metadata": {},
          "execution_count": 14
        }
      ]
    },
    {
      "cell_type": "code",
      "source": [
        "dados.head()"
      ],
      "metadata": {
        "colab": {
          "base_uri": "https://localhost:8080/",
          "height": 226
        },
        "id": "P8LNfWhjbolx",
        "outputId": "5a080c10-c4cf-4dc5-b186-0d162be67e5b"
      },
      "execution_count": 15,
      "outputs": [
        {
          "output_type": "execute_result",
          "data": {
            "text/plain": [
              "   id_cliente  score_credito     pais sexo_biologico  idade  anos_de_cliente  \\\n",
              "0    15634602            619   França         Mulher     42                2   \n",
              "1    15647311            608  Espanha         Mulher     41                1   \n",
              "2    15619304            502   França         Mulher     42                8   \n",
              "3    15701354            699   França         Mulher     39                1   \n",
              "4    15737888            850  Espanha         Mulher     43                2   \n",
              "\n",
              "       saldo  servicos_adquiridos  tem_cartao_credito  membro_ativo  \\\n",
              "0       0.00                    1                   1             1   \n",
              "1   83807.86                    1                   0             1   \n",
              "2  159660.80                    3                   1             0   \n",
              "3       0.00                    2                   0             0   \n",
              "4  125510.82                    1                   1             1   \n",
              "\n",
              "   salario_estimado  churn  \n",
              "0         101348.88      1  \n",
              "1         112542.58      0  \n",
              "2         113931.57      1  \n",
              "3          93826.63      0  \n",
              "4          79084.10      0  "
            ],
            "text/html": [
              "\n",
              "  <div id=\"df-e6e14842-ea08-4bbb-bab7-22c004bf2fba\" class=\"colab-df-container\">\n",
              "    <div>\n",
              "<style scoped>\n",
              "    .dataframe tbody tr th:only-of-type {\n",
              "        vertical-align: middle;\n",
              "    }\n",
              "\n",
              "    .dataframe tbody tr th {\n",
              "        vertical-align: top;\n",
              "    }\n",
              "\n",
              "    .dataframe thead th {\n",
              "        text-align: right;\n",
              "    }\n",
              "</style>\n",
              "<table border=\"1\" class=\"dataframe\">\n",
              "  <thead>\n",
              "    <tr style=\"text-align: right;\">\n",
              "      <th></th>\n",
              "      <th>id_cliente</th>\n",
              "      <th>score_credito</th>\n",
              "      <th>pais</th>\n",
              "      <th>sexo_biologico</th>\n",
              "      <th>idade</th>\n",
              "      <th>anos_de_cliente</th>\n",
              "      <th>saldo</th>\n",
              "      <th>servicos_adquiridos</th>\n",
              "      <th>tem_cartao_credito</th>\n",
              "      <th>membro_ativo</th>\n",
              "      <th>salario_estimado</th>\n",
              "      <th>churn</th>\n",
              "    </tr>\n",
              "  </thead>\n",
              "  <tbody>\n",
              "    <tr>\n",
              "      <th>0</th>\n",
              "      <td>15634602</td>\n",
              "      <td>619</td>\n",
              "      <td>França</td>\n",
              "      <td>Mulher</td>\n",
              "      <td>42</td>\n",
              "      <td>2</td>\n",
              "      <td>0.00</td>\n",
              "      <td>1</td>\n",
              "      <td>1</td>\n",
              "      <td>1</td>\n",
              "      <td>101348.88</td>\n",
              "      <td>1</td>\n",
              "    </tr>\n",
              "    <tr>\n",
              "      <th>1</th>\n",
              "      <td>15647311</td>\n",
              "      <td>608</td>\n",
              "      <td>Espanha</td>\n",
              "      <td>Mulher</td>\n",
              "      <td>41</td>\n",
              "      <td>1</td>\n",
              "      <td>83807.86</td>\n",
              "      <td>1</td>\n",
              "      <td>0</td>\n",
              "      <td>1</td>\n",
              "      <td>112542.58</td>\n",
              "      <td>0</td>\n",
              "    </tr>\n",
              "    <tr>\n",
              "      <th>2</th>\n",
              "      <td>15619304</td>\n",
              "      <td>502</td>\n",
              "      <td>França</td>\n",
              "      <td>Mulher</td>\n",
              "      <td>42</td>\n",
              "      <td>8</td>\n",
              "      <td>159660.80</td>\n",
              "      <td>3</td>\n",
              "      <td>1</td>\n",
              "      <td>0</td>\n",
              "      <td>113931.57</td>\n",
              "      <td>1</td>\n",
              "    </tr>\n",
              "    <tr>\n",
              "      <th>3</th>\n",
              "      <td>15701354</td>\n",
              "      <td>699</td>\n",
              "      <td>França</td>\n",
              "      <td>Mulher</td>\n",
              "      <td>39</td>\n",
              "      <td>1</td>\n",
              "      <td>0.00</td>\n",
              "      <td>2</td>\n",
              "      <td>0</td>\n",
              "      <td>0</td>\n",
              "      <td>93826.63</td>\n",
              "      <td>0</td>\n",
              "    </tr>\n",
              "    <tr>\n",
              "      <th>4</th>\n",
              "      <td>15737888</td>\n",
              "      <td>850</td>\n",
              "      <td>Espanha</td>\n",
              "      <td>Mulher</td>\n",
              "      <td>43</td>\n",
              "      <td>2</td>\n",
              "      <td>125510.82</td>\n",
              "      <td>1</td>\n",
              "      <td>1</td>\n",
              "      <td>1</td>\n",
              "      <td>79084.10</td>\n",
              "      <td>0</td>\n",
              "    </tr>\n",
              "  </tbody>\n",
              "</table>\n",
              "</div>\n",
              "    <div class=\"colab-df-buttons\">\n",
              "\n",
              "  <div class=\"colab-df-container\">\n",
              "    <button class=\"colab-df-convert\" onclick=\"convertToInteractive('df-e6e14842-ea08-4bbb-bab7-22c004bf2fba')\"\n",
              "            title=\"Convert this dataframe to an interactive table.\"\n",
              "            style=\"display:none;\">\n",
              "\n",
              "  <svg xmlns=\"http://www.w3.org/2000/svg\" height=\"24px\" viewBox=\"0 -960 960 960\">\n",
              "    <path d=\"M120-120v-720h720v720H120Zm60-500h600v-160H180v160Zm220 220h160v-160H400v160Zm0 220h160v-160H400v160ZM180-400h160v-160H180v160Zm440 0h160v-160H620v160ZM180-180h160v-160H180v160Zm440 0h160v-160H620v160Z\"/>\n",
              "  </svg>\n",
              "    </button>\n",
              "\n",
              "  <style>\n",
              "    .colab-df-container {\n",
              "      display:flex;\n",
              "      gap: 12px;\n",
              "    }\n",
              "\n",
              "    .colab-df-convert {\n",
              "      background-color: #E8F0FE;\n",
              "      border: none;\n",
              "      border-radius: 50%;\n",
              "      cursor: pointer;\n",
              "      display: none;\n",
              "      fill: #1967D2;\n",
              "      height: 32px;\n",
              "      padding: 0 0 0 0;\n",
              "      width: 32px;\n",
              "    }\n",
              "\n",
              "    .colab-df-convert:hover {\n",
              "      background-color: #E2EBFA;\n",
              "      box-shadow: 0px 1px 2px rgba(60, 64, 67, 0.3), 0px 1px 3px 1px rgba(60, 64, 67, 0.15);\n",
              "      fill: #174EA6;\n",
              "    }\n",
              "\n",
              "    .colab-df-buttons div {\n",
              "      margin-bottom: 4px;\n",
              "    }\n",
              "\n",
              "    [theme=dark] .colab-df-convert {\n",
              "      background-color: #3B4455;\n",
              "      fill: #D2E3FC;\n",
              "    }\n",
              "\n",
              "    [theme=dark] .colab-df-convert:hover {\n",
              "      background-color: #434B5C;\n",
              "      box-shadow: 0px 1px 3px 1px rgba(0, 0, 0, 0.15);\n",
              "      filter: drop-shadow(0px 1px 2px rgba(0, 0, 0, 0.3));\n",
              "      fill: #FFFFFF;\n",
              "    }\n",
              "  </style>\n",
              "\n",
              "    <script>\n",
              "      const buttonEl =\n",
              "        document.querySelector('#df-e6e14842-ea08-4bbb-bab7-22c004bf2fba button.colab-df-convert');\n",
              "      buttonEl.style.display =\n",
              "        google.colab.kernel.accessAllowed ? 'block' : 'none';\n",
              "\n",
              "      async function convertToInteractive(key) {\n",
              "        const element = document.querySelector('#df-e6e14842-ea08-4bbb-bab7-22c004bf2fba');\n",
              "        const dataTable =\n",
              "          await google.colab.kernel.invokeFunction('convertToInteractive',\n",
              "                                                    [key], {});\n",
              "        if (!dataTable) return;\n",
              "\n",
              "        const docLinkHtml = 'Like what you see? Visit the ' +\n",
              "          '<a target=\"_blank\" href=https://colab.research.google.com/notebooks/data_table.ipynb>data table notebook</a>'\n",
              "          + ' to learn more about interactive tables.';\n",
              "        element.innerHTML = '';\n",
              "        dataTable['output_type'] = 'display_data';\n",
              "        await google.colab.output.renderOutput(dataTable, element);\n",
              "        const docLink = document.createElement('div');\n",
              "        docLink.innerHTML = docLinkHtml;\n",
              "        element.appendChild(docLink);\n",
              "      }\n",
              "    </script>\n",
              "  </div>\n",
              "\n",
              "\n",
              "<div id=\"df-9bc1ff82-c419-4dbe-a037-7fcaf01bf540\">\n",
              "  <button class=\"colab-df-quickchart\" onclick=\"quickchart('df-9bc1ff82-c419-4dbe-a037-7fcaf01bf540')\"\n",
              "            title=\"Suggest charts\"\n",
              "            style=\"display:none;\">\n",
              "\n",
              "<svg xmlns=\"http://www.w3.org/2000/svg\" height=\"24px\"viewBox=\"0 0 24 24\"\n",
              "     width=\"24px\">\n",
              "    <g>\n",
              "        <path d=\"M19 3H5c-1.1 0-2 .9-2 2v14c0 1.1.9 2 2 2h14c1.1 0 2-.9 2-2V5c0-1.1-.9-2-2-2zM9 17H7v-7h2v7zm4 0h-2V7h2v10zm4 0h-2v-4h2v4z\"/>\n",
              "    </g>\n",
              "</svg>\n",
              "  </button>\n",
              "\n",
              "<style>\n",
              "  .colab-df-quickchart {\n",
              "      --bg-color: #E8F0FE;\n",
              "      --fill-color: #1967D2;\n",
              "      --hover-bg-color: #E2EBFA;\n",
              "      --hover-fill-color: #174EA6;\n",
              "      --disabled-fill-color: #AAA;\n",
              "      --disabled-bg-color: #DDD;\n",
              "  }\n",
              "\n",
              "  [theme=dark] .colab-df-quickchart {\n",
              "      --bg-color: #3B4455;\n",
              "      --fill-color: #D2E3FC;\n",
              "      --hover-bg-color: #434B5C;\n",
              "      --hover-fill-color: #FFFFFF;\n",
              "      --disabled-bg-color: #3B4455;\n",
              "      --disabled-fill-color: #666;\n",
              "  }\n",
              "\n",
              "  .colab-df-quickchart {\n",
              "    background-color: var(--bg-color);\n",
              "    border: none;\n",
              "    border-radius: 50%;\n",
              "    cursor: pointer;\n",
              "    display: none;\n",
              "    fill: var(--fill-color);\n",
              "    height: 32px;\n",
              "    padding: 0;\n",
              "    width: 32px;\n",
              "  }\n",
              "\n",
              "  .colab-df-quickchart:hover {\n",
              "    background-color: var(--hover-bg-color);\n",
              "    box-shadow: 0 1px 2px rgba(60, 64, 67, 0.3), 0 1px 3px 1px rgba(60, 64, 67, 0.15);\n",
              "    fill: var(--button-hover-fill-color);\n",
              "  }\n",
              "\n",
              "  .colab-df-quickchart-complete:disabled,\n",
              "  .colab-df-quickchart-complete:disabled:hover {\n",
              "    background-color: var(--disabled-bg-color);\n",
              "    fill: var(--disabled-fill-color);\n",
              "    box-shadow: none;\n",
              "  }\n",
              "\n",
              "  .colab-df-spinner {\n",
              "    border: 2px solid var(--fill-color);\n",
              "    border-color: transparent;\n",
              "    border-bottom-color: var(--fill-color);\n",
              "    animation:\n",
              "      spin 1s steps(1) infinite;\n",
              "  }\n",
              "\n",
              "  @keyframes spin {\n",
              "    0% {\n",
              "      border-color: transparent;\n",
              "      border-bottom-color: var(--fill-color);\n",
              "      border-left-color: var(--fill-color);\n",
              "    }\n",
              "    20% {\n",
              "      border-color: transparent;\n",
              "      border-left-color: var(--fill-color);\n",
              "      border-top-color: var(--fill-color);\n",
              "    }\n",
              "    30% {\n",
              "      border-color: transparent;\n",
              "      border-left-color: var(--fill-color);\n",
              "      border-top-color: var(--fill-color);\n",
              "      border-right-color: var(--fill-color);\n",
              "    }\n",
              "    40% {\n",
              "      border-color: transparent;\n",
              "      border-right-color: var(--fill-color);\n",
              "      border-top-color: var(--fill-color);\n",
              "    }\n",
              "    60% {\n",
              "      border-color: transparent;\n",
              "      border-right-color: var(--fill-color);\n",
              "    }\n",
              "    80% {\n",
              "      border-color: transparent;\n",
              "      border-right-color: var(--fill-color);\n",
              "      border-bottom-color: var(--fill-color);\n",
              "    }\n",
              "    90% {\n",
              "      border-color: transparent;\n",
              "      border-bottom-color: var(--fill-color);\n",
              "    }\n",
              "  }\n",
              "</style>\n",
              "\n",
              "  <script>\n",
              "    async function quickchart(key) {\n",
              "      const quickchartButtonEl =\n",
              "        document.querySelector('#' + key + ' button');\n",
              "      quickchartButtonEl.disabled = true;  // To prevent multiple clicks.\n",
              "      quickchartButtonEl.classList.add('colab-df-spinner');\n",
              "      try {\n",
              "        const charts = await google.colab.kernel.invokeFunction(\n",
              "            'suggestCharts', [key], {});\n",
              "      } catch (error) {\n",
              "        console.error('Error during call to suggestCharts:', error);\n",
              "      }\n",
              "      quickchartButtonEl.classList.remove('colab-df-spinner');\n",
              "      quickchartButtonEl.classList.add('colab-df-quickchart-complete');\n",
              "    }\n",
              "    (() => {\n",
              "      let quickchartButtonEl =\n",
              "        document.querySelector('#df-9bc1ff82-c419-4dbe-a037-7fcaf01bf540 button');\n",
              "      quickchartButtonEl.style.display =\n",
              "        google.colab.kernel.accessAllowed ? 'block' : 'none';\n",
              "    })();\n",
              "  </script>\n",
              "</div>\n",
              "\n",
              "    </div>\n",
              "  </div>\n"
            ],
            "application/vnd.google.colaboratory.intrinsic+json": {
              "type": "dataframe",
              "variable_name": "dados",
              "summary": "{\n  \"name\": \"dados\",\n  \"rows\": 10000,\n  \"fields\": [\n    {\n      \"column\": \"id_cliente\",\n      \"properties\": {\n        \"dtype\": \"number\",\n        \"std\": 71936,\n        \"min\": 15565701,\n        \"max\": 15815690,\n        \"num_unique_values\": 10000,\n        \"samples\": [\n          15687492,\n          15736963,\n          15721730\n        ],\n        \"semantic_type\": \"\",\n        \"description\": \"\"\n      }\n    },\n    {\n      \"column\": \"score_credito\",\n      \"properties\": {\n        \"dtype\": \"number\",\n        \"std\": 96,\n        \"min\": 350,\n        \"max\": 850,\n        \"num_unique_values\": 460,\n        \"samples\": [\n          754,\n          533,\n          744\n        ],\n        \"semantic_type\": \"\",\n        \"description\": \"\"\n      }\n    },\n    {\n      \"column\": \"pais\",\n      \"properties\": {\n        \"dtype\": \"category\",\n        \"num_unique_values\": 3,\n        \"samples\": [\n          \"Fran\\u00e7a\",\n          \"Espanha\",\n          \"Alemanha\"\n        ],\n        \"semantic_type\": \"\",\n        \"description\": \"\"\n      }\n    },\n    {\n      \"column\": \"sexo_biologico\",\n      \"properties\": {\n        \"dtype\": \"category\",\n        \"num_unique_values\": 2,\n        \"samples\": [\n          \"Homem\",\n          \"Mulher\"\n        ],\n        \"semantic_type\": \"\",\n        \"description\": \"\"\n      }\n    },\n    {\n      \"column\": \"idade\",\n      \"properties\": {\n        \"dtype\": \"number\",\n        \"std\": 10,\n        \"min\": 18,\n        \"max\": 92,\n        \"num_unique_values\": 70,\n        \"samples\": [\n          61,\n          42\n        ],\n        \"semantic_type\": \"\",\n        \"description\": \"\"\n      }\n    },\n    {\n      \"column\": \"anos_de_cliente\",\n      \"properties\": {\n        \"dtype\": \"number\",\n        \"std\": 2,\n        \"min\": 0,\n        \"max\": 10,\n        \"num_unique_values\": 11,\n        \"samples\": [\n          6,\n          2\n        ],\n        \"semantic_type\": \"\",\n        \"description\": \"\"\n      }\n    },\n    {\n      \"column\": \"saldo\",\n      \"properties\": {\n        \"dtype\": \"number\",\n        \"std\": 62397.405202385955,\n        \"min\": 0.0,\n        \"max\": 250898.09,\n        \"num_unique_values\": 6382,\n        \"samples\": [\n          117707.18,\n          133050.97\n        ],\n        \"semantic_type\": \"\",\n        \"description\": \"\"\n      }\n    },\n    {\n      \"column\": \"servicos_adquiridos\",\n      \"properties\": {\n        \"dtype\": \"number\",\n        \"std\": 0,\n        \"min\": 1,\n        \"max\": 4,\n        \"num_unique_values\": 4,\n        \"samples\": [\n          3,\n          4\n        ],\n        \"semantic_type\": \"\",\n        \"description\": \"\"\n      }\n    },\n    {\n      \"column\": \"tem_cartao_credito\",\n      \"properties\": {\n        \"dtype\": \"number\",\n        \"std\": 0,\n        \"min\": 0,\n        \"max\": 1,\n        \"num_unique_values\": 2,\n        \"samples\": [\n          0,\n          1\n        ],\n        \"semantic_type\": \"\",\n        \"description\": \"\"\n      }\n    },\n    {\n      \"column\": \"membro_ativo\",\n      \"properties\": {\n        \"dtype\": \"number\",\n        \"std\": 0,\n        \"min\": 0,\n        \"max\": 1,\n        \"num_unique_values\": 2,\n        \"samples\": [\n          0,\n          1\n        ],\n        \"semantic_type\": \"\",\n        \"description\": \"\"\n      }\n    },\n    {\n      \"column\": \"salario_estimado\",\n      \"properties\": {\n        \"dtype\": \"number\",\n        \"std\": 57510.49281769816,\n        \"min\": 11.58,\n        \"max\": 199992.48,\n        \"num_unique_values\": 9999,\n        \"samples\": [\n          100809.99,\n          95273.73\n        ],\n        \"semantic_type\": \"\",\n        \"description\": \"\"\n      }\n    },\n    {\n      \"column\": \"churn\",\n      \"properties\": {\n        \"dtype\": \"number\",\n        \"std\": 0,\n        \"min\": 0,\n        \"max\": 1,\n        \"num_unique_values\": 2,\n        \"samples\": [\n          0,\n          1\n        ],\n        \"semantic_type\": \"\",\n        \"description\": \"\"\n      }\n    }\n  ]\n}"
            }
          },
          "metadata": {},
          "execution_count": 15
        }
      ]
    },
    {
      "cell_type": "markdown",
      "metadata": {
        "id": "V8lNCeRnyQ2P"
      },
      "source": [
        "## 1.2 - Diferentes Variáveis"
      ]
    },
    {
      "cell_type": "code",
      "source": [
        "for col in dados.columns:\n",
        "  print(col, dados[col].unique())"
      ],
      "metadata": {
        "id": "UqQ4f1RpV8tG",
        "colab": {
          "base_uri": "https://localhost:8080/"
        },
        "outputId": "7a3f1854-bba7-48da-baa8-34789f12841b"
      },
      "execution_count": 16,
      "outputs": [
        {
          "output_type": "stream",
          "name": "stdout",
          "text": [
            "id_cliente [15634602 15647311 15619304 ... 15584532 15682355 15628319]\n",
            "score_credito [619 608 502 699 850 645 822 376 501 684 528 497 476 549 635 616 653 587\n",
            " 726 732 636 510 669 846 577 756 571 574 411 591 533 553 520 722 475 490\n",
            " 804 582 472 465 556 834 660 776 829 637 550 698 585 788 655 601 656 725\n",
            " 511 614 742 687 555 603 751 581 735 661 675 738 813 657 604 519 664 678\n",
            " 757 416 665 777 543 506 493 652 750 729 646 647 808 524 769 730 515 773\n",
            " 814 710 413 623 670 622 785 605 479 685 538 562 721 628 668 828 674 625\n",
            " 432 770 758 795 686 789 589 461 584 579 663 682 793 691 485 650 754 535\n",
            " 716 539 706 586 631 717 800 683 704 615 667 484 480 578 512 606 597 778\n",
            " 514 525 715 580 807 521 759 516 711 618 643 671 689 620 676 572 695 592\n",
            " 567 694 547 594 673 610 767 763 712 703 662 659 523 772 545 634 739 771\n",
            " 681 544 696 766 727 693 557 531 498 651 791 733 811 707 714 782 775 799\n",
            " 602 744 588 747 583 627 731 629 438 642 806 474 559 429 680 749 734 644\n",
            " 626 649 805 718 840 630 654 762 568 613 522 737 648 443 640 540 460 593\n",
            " 801 611 802 745 483 690 492 709 705 560 752 701 537 487 596 702 486 724\n",
            " 548 464 790 534 748 494 590 468 509 818 816 536 753 774 621 569 658 798\n",
            " 641 542 692 639 765 570 638 599 632 779 527 564 833 504 842 508 417 598\n",
            " 741 607 761 848 546 439 755 760 526 713 700 666 566 495 688 612 477 427\n",
            " 839 819 720 459 503 624 529 563 482 796 445 746 786 554 672 787 499 844\n",
            " 450 815 838 803 736 633 600 679 517 792 743 488 421 841 708 507 505 456\n",
            " 435 561 518 565 728 784 552 609 764 697 723 551 444 719 496 541 830 812\n",
            " 677 420 595 617 809 500 826 434 513 478 797 363 399 463 780 452 575 837\n",
            " 794 824 428 823 781 849 489 431 457 768 831 359 820 573 576 558 817 449\n",
            " 440 415 821 530 350 446 425 740 481 783 358 845 451 458 469 423 404 836\n",
            " 473 835 466 491 351 827 843 365 532 414 453 471 401 810 832 470 447 422\n",
            " 825 430 436 426 408 847 418 437 410 454 407 455 462 386 405 383 395 467\n",
            " 433 442 424 448 441 367 412 382 373 419]\n",
            "pais ['França' 'Espanha' 'Alemanha']\n",
            "sexo_biologico ['Mulher' 'Homem']\n",
            "idade [42 41 39 43 44 50 29 27 31 24 34 25 35 45 58 32 38 46 36 33 40 51 61 49\n",
            " 37 19 66 56 26 21 55 75 22 30 28 65 48 52 57 73 47 54 72 20 67 79 62 53\n",
            " 80 59 68 23 60 70 63 64 18 82 69 74 71 76 77 88 85 84 78 81 92 83]\n",
            "anos_de_cliente [ 2  1  8  7  4  6  3 10  5  9  0]\n",
            "saldo [     0.    83807.86 159660.8  ...  57369.61  75075.31 130142.79]\n",
            "servicos_adquiridos [1 3 2 4]\n",
            "tem_cartao_credito [1 0]\n",
            "membro_ativo [1 0]\n",
            "salario_estimado [101348.88 112542.58 113931.57 ...  42085.58  92888.52  38190.78]\n",
            "churn [1 0]\n"
          ]
        }
      ]
    },
    {
      "cell_type": "code",
      "source": [
        "#Modificando de forma manual\n",
        "\n",
        "traducao_dic = {\n",
        "    'Homem': 1,\n",
        "    'Mulher': 0\n",
        "}\n",
        "\n",
        "#Criando um novo dataframe de classes binárias\n",
        "dados_binarios = dados[['sexo_biologico', 'tem_cartao_credito', 'membro_ativo', 'churn']].replace(traducao_dic)\n",
        "\n",
        "#sexo_biologico\tidade\tanos_de_cliente\tsaldo\tservicos_adquiridos\ttem_cartao_credito\tmembro_ativo\tsalario_estimado\tchurn\n",
        "\n",
        "#dados_binários.replace(traducao_dic, inplace = True) estiver fazendo separado\n",
        "\n",
        "#Trocando valores\n",
        "dados_binarios.head()"
      ],
      "metadata": {
        "colab": {
          "base_uri": "https://localhost:8080/",
          "height": 206
        },
        "id": "EXNYmJaidTf5",
        "outputId": "582d2b55-1f66-41c8-96c6-87119c008088"
      },
      "execution_count": 17,
      "outputs": [
        {
          "output_type": "execute_result",
          "data": {
            "text/plain": [
              "   sexo_biologico  tem_cartao_credito  membro_ativo  churn\n",
              "0               0                   1             1      1\n",
              "1               0                   0             1      0\n",
              "2               0                   1             0      1\n",
              "3               0                   0             0      0\n",
              "4               0                   1             1      0"
            ],
            "text/html": [
              "\n",
              "  <div id=\"df-843afd8f-1abe-4e40-b2d0-d16d79714018\" class=\"colab-df-container\">\n",
              "    <div>\n",
              "<style scoped>\n",
              "    .dataframe tbody tr th:only-of-type {\n",
              "        vertical-align: middle;\n",
              "    }\n",
              "\n",
              "    .dataframe tbody tr th {\n",
              "        vertical-align: top;\n",
              "    }\n",
              "\n",
              "    .dataframe thead th {\n",
              "        text-align: right;\n",
              "    }\n",
              "</style>\n",
              "<table border=\"1\" class=\"dataframe\">\n",
              "  <thead>\n",
              "    <tr style=\"text-align: right;\">\n",
              "      <th></th>\n",
              "      <th>sexo_biologico</th>\n",
              "      <th>tem_cartao_credito</th>\n",
              "      <th>membro_ativo</th>\n",
              "      <th>churn</th>\n",
              "    </tr>\n",
              "  </thead>\n",
              "  <tbody>\n",
              "    <tr>\n",
              "      <th>0</th>\n",
              "      <td>0</td>\n",
              "      <td>1</td>\n",
              "      <td>1</td>\n",
              "      <td>1</td>\n",
              "    </tr>\n",
              "    <tr>\n",
              "      <th>1</th>\n",
              "      <td>0</td>\n",
              "      <td>0</td>\n",
              "      <td>1</td>\n",
              "      <td>0</td>\n",
              "    </tr>\n",
              "    <tr>\n",
              "      <th>2</th>\n",
              "      <td>0</td>\n",
              "      <td>1</td>\n",
              "      <td>0</td>\n",
              "      <td>1</td>\n",
              "    </tr>\n",
              "    <tr>\n",
              "      <th>3</th>\n",
              "      <td>0</td>\n",
              "      <td>0</td>\n",
              "      <td>0</td>\n",
              "      <td>0</td>\n",
              "    </tr>\n",
              "    <tr>\n",
              "      <th>4</th>\n",
              "      <td>0</td>\n",
              "      <td>1</td>\n",
              "      <td>1</td>\n",
              "      <td>0</td>\n",
              "    </tr>\n",
              "  </tbody>\n",
              "</table>\n",
              "</div>\n",
              "    <div class=\"colab-df-buttons\">\n",
              "\n",
              "  <div class=\"colab-df-container\">\n",
              "    <button class=\"colab-df-convert\" onclick=\"convertToInteractive('df-843afd8f-1abe-4e40-b2d0-d16d79714018')\"\n",
              "            title=\"Convert this dataframe to an interactive table.\"\n",
              "            style=\"display:none;\">\n",
              "\n",
              "  <svg xmlns=\"http://www.w3.org/2000/svg\" height=\"24px\" viewBox=\"0 -960 960 960\">\n",
              "    <path d=\"M120-120v-720h720v720H120Zm60-500h600v-160H180v160Zm220 220h160v-160H400v160Zm0 220h160v-160H400v160ZM180-400h160v-160H180v160Zm440 0h160v-160H620v160ZM180-180h160v-160H180v160Zm440 0h160v-160H620v160Z\"/>\n",
              "  </svg>\n",
              "    </button>\n",
              "\n",
              "  <style>\n",
              "    .colab-df-container {\n",
              "      display:flex;\n",
              "      gap: 12px;\n",
              "    }\n",
              "\n",
              "    .colab-df-convert {\n",
              "      background-color: #E8F0FE;\n",
              "      border: none;\n",
              "      border-radius: 50%;\n",
              "      cursor: pointer;\n",
              "      display: none;\n",
              "      fill: #1967D2;\n",
              "      height: 32px;\n",
              "      padding: 0 0 0 0;\n",
              "      width: 32px;\n",
              "    }\n",
              "\n",
              "    .colab-df-convert:hover {\n",
              "      background-color: #E2EBFA;\n",
              "      box-shadow: 0px 1px 2px rgba(60, 64, 67, 0.3), 0px 1px 3px 1px rgba(60, 64, 67, 0.15);\n",
              "      fill: #174EA6;\n",
              "    }\n",
              "\n",
              "    .colab-df-buttons div {\n",
              "      margin-bottom: 4px;\n",
              "    }\n",
              "\n",
              "    [theme=dark] .colab-df-convert {\n",
              "      background-color: #3B4455;\n",
              "      fill: #D2E3FC;\n",
              "    }\n",
              "\n",
              "    [theme=dark] .colab-df-convert:hover {\n",
              "      background-color: #434B5C;\n",
              "      box-shadow: 0px 1px 3px 1px rgba(0, 0, 0, 0.15);\n",
              "      filter: drop-shadow(0px 1px 2px rgba(0, 0, 0, 0.3));\n",
              "      fill: #FFFFFF;\n",
              "    }\n",
              "  </style>\n",
              "\n",
              "    <script>\n",
              "      const buttonEl =\n",
              "        document.querySelector('#df-843afd8f-1abe-4e40-b2d0-d16d79714018 button.colab-df-convert');\n",
              "      buttonEl.style.display =\n",
              "        google.colab.kernel.accessAllowed ? 'block' : 'none';\n",
              "\n",
              "      async function convertToInteractive(key) {\n",
              "        const element = document.querySelector('#df-843afd8f-1abe-4e40-b2d0-d16d79714018');\n",
              "        const dataTable =\n",
              "          await google.colab.kernel.invokeFunction('convertToInteractive',\n",
              "                                                    [key], {});\n",
              "        if (!dataTable) return;\n",
              "\n",
              "        const docLinkHtml = 'Like what you see? Visit the ' +\n",
              "          '<a target=\"_blank\" href=https://colab.research.google.com/notebooks/data_table.ipynb>data table notebook</a>'\n",
              "          + ' to learn more about interactive tables.';\n",
              "        element.innerHTML = '';\n",
              "        dataTable['output_type'] = 'display_data';\n",
              "        await google.colab.output.renderOutput(dataTable, element);\n",
              "        const docLink = document.createElement('div');\n",
              "        docLink.innerHTML = docLinkHtml;\n",
              "        element.appendChild(docLink);\n",
              "      }\n",
              "    </script>\n",
              "  </div>\n",
              "\n",
              "\n",
              "<div id=\"df-a675572e-427f-4547-9790-381d06b50f11\">\n",
              "  <button class=\"colab-df-quickchart\" onclick=\"quickchart('df-a675572e-427f-4547-9790-381d06b50f11')\"\n",
              "            title=\"Suggest charts\"\n",
              "            style=\"display:none;\">\n",
              "\n",
              "<svg xmlns=\"http://www.w3.org/2000/svg\" height=\"24px\"viewBox=\"0 0 24 24\"\n",
              "     width=\"24px\">\n",
              "    <g>\n",
              "        <path d=\"M19 3H5c-1.1 0-2 .9-2 2v14c0 1.1.9 2 2 2h14c1.1 0 2-.9 2-2V5c0-1.1-.9-2-2-2zM9 17H7v-7h2v7zm4 0h-2V7h2v10zm4 0h-2v-4h2v4z\"/>\n",
              "    </g>\n",
              "</svg>\n",
              "  </button>\n",
              "\n",
              "<style>\n",
              "  .colab-df-quickchart {\n",
              "      --bg-color: #E8F0FE;\n",
              "      --fill-color: #1967D2;\n",
              "      --hover-bg-color: #E2EBFA;\n",
              "      --hover-fill-color: #174EA6;\n",
              "      --disabled-fill-color: #AAA;\n",
              "      --disabled-bg-color: #DDD;\n",
              "  }\n",
              "\n",
              "  [theme=dark] .colab-df-quickchart {\n",
              "      --bg-color: #3B4455;\n",
              "      --fill-color: #D2E3FC;\n",
              "      --hover-bg-color: #434B5C;\n",
              "      --hover-fill-color: #FFFFFF;\n",
              "      --disabled-bg-color: #3B4455;\n",
              "      --disabled-fill-color: #666;\n",
              "  }\n",
              "\n",
              "  .colab-df-quickchart {\n",
              "    background-color: var(--bg-color);\n",
              "    border: none;\n",
              "    border-radius: 50%;\n",
              "    cursor: pointer;\n",
              "    display: none;\n",
              "    fill: var(--fill-color);\n",
              "    height: 32px;\n",
              "    padding: 0;\n",
              "    width: 32px;\n",
              "  }\n",
              "\n",
              "  .colab-df-quickchart:hover {\n",
              "    background-color: var(--hover-bg-color);\n",
              "    box-shadow: 0 1px 2px rgba(60, 64, 67, 0.3), 0 1px 3px 1px rgba(60, 64, 67, 0.15);\n",
              "    fill: var(--button-hover-fill-color);\n",
              "  }\n",
              "\n",
              "  .colab-df-quickchart-complete:disabled,\n",
              "  .colab-df-quickchart-complete:disabled:hover {\n",
              "    background-color: var(--disabled-bg-color);\n",
              "    fill: var(--disabled-fill-color);\n",
              "    box-shadow: none;\n",
              "  }\n",
              "\n",
              "  .colab-df-spinner {\n",
              "    border: 2px solid var(--fill-color);\n",
              "    border-color: transparent;\n",
              "    border-bottom-color: var(--fill-color);\n",
              "    animation:\n",
              "      spin 1s steps(1) infinite;\n",
              "  }\n",
              "\n",
              "  @keyframes spin {\n",
              "    0% {\n",
              "      border-color: transparent;\n",
              "      border-bottom-color: var(--fill-color);\n",
              "      border-left-color: var(--fill-color);\n",
              "    }\n",
              "    20% {\n",
              "      border-color: transparent;\n",
              "      border-left-color: var(--fill-color);\n",
              "      border-top-color: var(--fill-color);\n",
              "    }\n",
              "    30% {\n",
              "      border-color: transparent;\n",
              "      border-left-color: var(--fill-color);\n",
              "      border-top-color: var(--fill-color);\n",
              "      border-right-color: var(--fill-color);\n",
              "    }\n",
              "    40% {\n",
              "      border-color: transparent;\n",
              "      border-right-color: var(--fill-color);\n",
              "      border-top-color: var(--fill-color);\n",
              "    }\n",
              "    60% {\n",
              "      border-color: transparent;\n",
              "      border-right-color: var(--fill-color);\n",
              "    }\n",
              "    80% {\n",
              "      border-color: transparent;\n",
              "      border-right-color: var(--fill-color);\n",
              "      border-bottom-color: var(--fill-color);\n",
              "    }\n",
              "    90% {\n",
              "      border-color: transparent;\n",
              "      border-bottom-color: var(--fill-color);\n",
              "    }\n",
              "  }\n",
              "</style>\n",
              "\n",
              "  <script>\n",
              "    async function quickchart(key) {\n",
              "      const quickchartButtonEl =\n",
              "        document.querySelector('#' + key + ' button');\n",
              "      quickchartButtonEl.disabled = true;  // To prevent multiple clicks.\n",
              "      quickchartButtonEl.classList.add('colab-df-spinner');\n",
              "      try {\n",
              "        const charts = await google.colab.kernel.invokeFunction(\n",
              "            'suggestCharts', [key], {});\n",
              "      } catch (error) {\n",
              "        console.error('Error during call to suggestCharts:', error);\n",
              "      }\n",
              "      quickchartButtonEl.classList.remove('colab-df-spinner');\n",
              "      quickchartButtonEl.classList.add('colab-df-quickchart-complete');\n",
              "    }\n",
              "    (() => {\n",
              "      let quickchartButtonEl =\n",
              "        document.querySelector('#df-a675572e-427f-4547-9790-381d06b50f11 button');\n",
              "      quickchartButtonEl.style.display =\n",
              "        google.colab.kernel.accessAllowed ? 'block' : 'none';\n",
              "    })();\n",
              "  </script>\n",
              "</div>\n",
              "\n",
              "    </div>\n",
              "  </div>\n"
            ],
            "application/vnd.google.colaboratory.intrinsic+json": {
              "type": "dataframe",
              "variable_name": "dados_binarios",
              "summary": "{\n  \"name\": \"dados_binarios\",\n  \"rows\": 10000,\n  \"fields\": [\n    {\n      \"column\": \"sexo_biologico\",\n      \"properties\": {\n        \"dtype\": \"number\",\n        \"std\": 0,\n        \"min\": 0,\n        \"max\": 1,\n        \"num_unique_values\": 2,\n        \"samples\": [\n          1,\n          0\n        ],\n        \"semantic_type\": \"\",\n        \"description\": \"\"\n      }\n    },\n    {\n      \"column\": \"tem_cartao_credito\",\n      \"properties\": {\n        \"dtype\": \"number\",\n        \"std\": 0,\n        \"min\": 0,\n        \"max\": 1,\n        \"num_unique_values\": 2,\n        \"samples\": [\n          0,\n          1\n        ],\n        \"semantic_type\": \"\",\n        \"description\": \"\"\n      }\n    },\n    {\n      \"column\": \"membro_ativo\",\n      \"properties\": {\n        \"dtype\": \"number\",\n        \"std\": 0,\n        \"min\": 0,\n        \"max\": 1,\n        \"num_unique_values\": 2,\n        \"samples\": [\n          0,\n          1\n        ],\n        \"semantic_type\": \"\",\n        \"description\": \"\"\n      }\n    },\n    {\n      \"column\": \"churn\",\n      \"properties\": {\n        \"dtype\": \"number\",\n        \"std\": 0,\n        \"min\": 0,\n        \"max\": 1,\n        \"num_unique_values\": 2,\n        \"samples\": [\n          0,\n          1\n        ],\n        \"semantic_type\": \"\",\n        \"description\": \"\"\n      }\n    }\n  ]\n}"
            }
          },
          "metadata": {},
          "execution_count": 17
        }
      ]
    },
    {
      "cell_type": "code",
      "source": [
        "#Tratar colunas com classes multiplas\n",
        "#Trasformação pelo get_dummies\n",
        "\n",
        "dados_sem_colunas_bin = dados.drop(['sexo_biologico', 'tem_cartao_credito',\n",
        "                                    'membro_ativo', 'churn'], axis=1) #axis = 1 representa colunas(O drop por padrão remove linhas)\n",
        "\n",
        "#convertendo colunas de classes multiplas\n",
        "dummie_dados = pd.get_dummies(dados_sem_colunas_bin)\n",
        "dummie_dados.head()\n",
        "\n",
        "#Variaveis númericas não precisa tratar"
      ],
      "metadata": {
        "colab": {
          "base_uri": "https://localhost:8080/",
          "height": 206
        },
        "id": "nfxZMScBgzkZ",
        "outputId": "2e1a4270-e655-47fe-e822-970a4d0c6725"
      },
      "execution_count": 18,
      "outputs": [
        {
          "output_type": "execute_result",
          "data": {
            "text/plain": [
              "   id_cliente  score_credito  idade  anos_de_cliente      saldo  \\\n",
              "0    15634602            619     42                2       0.00   \n",
              "1    15647311            608     41                1   83807.86   \n",
              "2    15619304            502     42                8  159660.80   \n",
              "3    15701354            699     39                1       0.00   \n",
              "4    15737888            850     43                2  125510.82   \n",
              "\n",
              "   servicos_adquiridos  salario_estimado  pais_Alemanha  pais_Espanha  \\\n",
              "0                    1         101348.88          False         False   \n",
              "1                    1         112542.58          False          True   \n",
              "2                    3         113931.57          False         False   \n",
              "3                    2          93826.63          False         False   \n",
              "4                    1          79084.10          False          True   \n",
              "\n",
              "   pais_França  \n",
              "0         True  \n",
              "1        False  \n",
              "2         True  \n",
              "3         True  \n",
              "4        False  "
            ],
            "text/html": [
              "\n",
              "  <div id=\"df-129476ea-360c-4abb-af0d-5d99a36629fd\" class=\"colab-df-container\">\n",
              "    <div>\n",
              "<style scoped>\n",
              "    .dataframe tbody tr th:only-of-type {\n",
              "        vertical-align: middle;\n",
              "    }\n",
              "\n",
              "    .dataframe tbody tr th {\n",
              "        vertical-align: top;\n",
              "    }\n",
              "\n",
              "    .dataframe thead th {\n",
              "        text-align: right;\n",
              "    }\n",
              "</style>\n",
              "<table border=\"1\" class=\"dataframe\">\n",
              "  <thead>\n",
              "    <tr style=\"text-align: right;\">\n",
              "      <th></th>\n",
              "      <th>id_cliente</th>\n",
              "      <th>score_credito</th>\n",
              "      <th>idade</th>\n",
              "      <th>anos_de_cliente</th>\n",
              "      <th>saldo</th>\n",
              "      <th>servicos_adquiridos</th>\n",
              "      <th>salario_estimado</th>\n",
              "      <th>pais_Alemanha</th>\n",
              "      <th>pais_Espanha</th>\n",
              "      <th>pais_França</th>\n",
              "    </tr>\n",
              "  </thead>\n",
              "  <tbody>\n",
              "    <tr>\n",
              "      <th>0</th>\n",
              "      <td>15634602</td>\n",
              "      <td>619</td>\n",
              "      <td>42</td>\n",
              "      <td>2</td>\n",
              "      <td>0.00</td>\n",
              "      <td>1</td>\n",
              "      <td>101348.88</td>\n",
              "      <td>False</td>\n",
              "      <td>False</td>\n",
              "      <td>True</td>\n",
              "    </tr>\n",
              "    <tr>\n",
              "      <th>1</th>\n",
              "      <td>15647311</td>\n",
              "      <td>608</td>\n",
              "      <td>41</td>\n",
              "      <td>1</td>\n",
              "      <td>83807.86</td>\n",
              "      <td>1</td>\n",
              "      <td>112542.58</td>\n",
              "      <td>False</td>\n",
              "      <td>True</td>\n",
              "      <td>False</td>\n",
              "    </tr>\n",
              "    <tr>\n",
              "      <th>2</th>\n",
              "      <td>15619304</td>\n",
              "      <td>502</td>\n",
              "      <td>42</td>\n",
              "      <td>8</td>\n",
              "      <td>159660.80</td>\n",
              "      <td>3</td>\n",
              "      <td>113931.57</td>\n",
              "      <td>False</td>\n",
              "      <td>False</td>\n",
              "      <td>True</td>\n",
              "    </tr>\n",
              "    <tr>\n",
              "      <th>3</th>\n",
              "      <td>15701354</td>\n",
              "      <td>699</td>\n",
              "      <td>39</td>\n",
              "      <td>1</td>\n",
              "      <td>0.00</td>\n",
              "      <td>2</td>\n",
              "      <td>93826.63</td>\n",
              "      <td>False</td>\n",
              "      <td>False</td>\n",
              "      <td>True</td>\n",
              "    </tr>\n",
              "    <tr>\n",
              "      <th>4</th>\n",
              "      <td>15737888</td>\n",
              "      <td>850</td>\n",
              "      <td>43</td>\n",
              "      <td>2</td>\n",
              "      <td>125510.82</td>\n",
              "      <td>1</td>\n",
              "      <td>79084.10</td>\n",
              "      <td>False</td>\n",
              "      <td>True</td>\n",
              "      <td>False</td>\n",
              "    </tr>\n",
              "  </tbody>\n",
              "</table>\n",
              "</div>\n",
              "    <div class=\"colab-df-buttons\">\n",
              "\n",
              "  <div class=\"colab-df-container\">\n",
              "    <button class=\"colab-df-convert\" onclick=\"convertToInteractive('df-129476ea-360c-4abb-af0d-5d99a36629fd')\"\n",
              "            title=\"Convert this dataframe to an interactive table.\"\n",
              "            style=\"display:none;\">\n",
              "\n",
              "  <svg xmlns=\"http://www.w3.org/2000/svg\" height=\"24px\" viewBox=\"0 -960 960 960\">\n",
              "    <path d=\"M120-120v-720h720v720H120Zm60-500h600v-160H180v160Zm220 220h160v-160H400v160Zm0 220h160v-160H400v160ZM180-400h160v-160H180v160Zm440 0h160v-160H620v160ZM180-180h160v-160H180v160Zm440 0h160v-160H620v160Z\"/>\n",
              "  </svg>\n",
              "    </button>\n",
              "\n",
              "  <style>\n",
              "    .colab-df-container {\n",
              "      display:flex;\n",
              "      gap: 12px;\n",
              "    }\n",
              "\n",
              "    .colab-df-convert {\n",
              "      background-color: #E8F0FE;\n",
              "      border: none;\n",
              "      border-radius: 50%;\n",
              "      cursor: pointer;\n",
              "      display: none;\n",
              "      fill: #1967D2;\n",
              "      height: 32px;\n",
              "      padding: 0 0 0 0;\n",
              "      width: 32px;\n",
              "    }\n",
              "\n",
              "    .colab-df-convert:hover {\n",
              "      background-color: #E2EBFA;\n",
              "      box-shadow: 0px 1px 2px rgba(60, 64, 67, 0.3), 0px 1px 3px 1px rgba(60, 64, 67, 0.15);\n",
              "      fill: #174EA6;\n",
              "    }\n",
              "\n",
              "    .colab-df-buttons div {\n",
              "      margin-bottom: 4px;\n",
              "    }\n",
              "\n",
              "    [theme=dark] .colab-df-convert {\n",
              "      background-color: #3B4455;\n",
              "      fill: #D2E3FC;\n",
              "    }\n",
              "\n",
              "    [theme=dark] .colab-df-convert:hover {\n",
              "      background-color: #434B5C;\n",
              "      box-shadow: 0px 1px 3px 1px rgba(0, 0, 0, 0.15);\n",
              "      filter: drop-shadow(0px 1px 2px rgba(0, 0, 0, 0.3));\n",
              "      fill: #FFFFFF;\n",
              "    }\n",
              "  </style>\n",
              "\n",
              "    <script>\n",
              "      const buttonEl =\n",
              "        document.querySelector('#df-129476ea-360c-4abb-af0d-5d99a36629fd button.colab-df-convert');\n",
              "      buttonEl.style.display =\n",
              "        google.colab.kernel.accessAllowed ? 'block' : 'none';\n",
              "\n",
              "      async function convertToInteractive(key) {\n",
              "        const element = document.querySelector('#df-129476ea-360c-4abb-af0d-5d99a36629fd');\n",
              "        const dataTable =\n",
              "          await google.colab.kernel.invokeFunction('convertToInteractive',\n",
              "                                                    [key], {});\n",
              "        if (!dataTable) return;\n",
              "\n",
              "        const docLinkHtml = 'Like what you see? Visit the ' +\n",
              "          '<a target=\"_blank\" href=https://colab.research.google.com/notebooks/data_table.ipynb>data table notebook</a>'\n",
              "          + ' to learn more about interactive tables.';\n",
              "        element.innerHTML = '';\n",
              "        dataTable['output_type'] = 'display_data';\n",
              "        await google.colab.output.renderOutput(dataTable, element);\n",
              "        const docLink = document.createElement('div');\n",
              "        docLink.innerHTML = docLinkHtml;\n",
              "        element.appendChild(docLink);\n",
              "      }\n",
              "    </script>\n",
              "  </div>\n",
              "\n",
              "\n",
              "<div id=\"df-6cedce9e-9d7a-483e-a12c-53cd63295826\">\n",
              "  <button class=\"colab-df-quickchart\" onclick=\"quickchart('df-6cedce9e-9d7a-483e-a12c-53cd63295826')\"\n",
              "            title=\"Suggest charts\"\n",
              "            style=\"display:none;\">\n",
              "\n",
              "<svg xmlns=\"http://www.w3.org/2000/svg\" height=\"24px\"viewBox=\"0 0 24 24\"\n",
              "     width=\"24px\">\n",
              "    <g>\n",
              "        <path d=\"M19 3H5c-1.1 0-2 .9-2 2v14c0 1.1.9 2 2 2h14c1.1 0 2-.9 2-2V5c0-1.1-.9-2-2-2zM9 17H7v-7h2v7zm4 0h-2V7h2v10zm4 0h-2v-4h2v4z\"/>\n",
              "    </g>\n",
              "</svg>\n",
              "  </button>\n",
              "\n",
              "<style>\n",
              "  .colab-df-quickchart {\n",
              "      --bg-color: #E8F0FE;\n",
              "      --fill-color: #1967D2;\n",
              "      --hover-bg-color: #E2EBFA;\n",
              "      --hover-fill-color: #174EA6;\n",
              "      --disabled-fill-color: #AAA;\n",
              "      --disabled-bg-color: #DDD;\n",
              "  }\n",
              "\n",
              "  [theme=dark] .colab-df-quickchart {\n",
              "      --bg-color: #3B4455;\n",
              "      --fill-color: #D2E3FC;\n",
              "      --hover-bg-color: #434B5C;\n",
              "      --hover-fill-color: #FFFFFF;\n",
              "      --disabled-bg-color: #3B4455;\n",
              "      --disabled-fill-color: #666;\n",
              "  }\n",
              "\n",
              "  .colab-df-quickchart {\n",
              "    background-color: var(--bg-color);\n",
              "    border: none;\n",
              "    border-radius: 50%;\n",
              "    cursor: pointer;\n",
              "    display: none;\n",
              "    fill: var(--fill-color);\n",
              "    height: 32px;\n",
              "    padding: 0;\n",
              "    width: 32px;\n",
              "  }\n",
              "\n",
              "  .colab-df-quickchart:hover {\n",
              "    background-color: var(--hover-bg-color);\n",
              "    box-shadow: 0 1px 2px rgba(60, 64, 67, 0.3), 0 1px 3px 1px rgba(60, 64, 67, 0.15);\n",
              "    fill: var(--button-hover-fill-color);\n",
              "  }\n",
              "\n",
              "  .colab-df-quickchart-complete:disabled,\n",
              "  .colab-df-quickchart-complete:disabled:hover {\n",
              "    background-color: var(--disabled-bg-color);\n",
              "    fill: var(--disabled-fill-color);\n",
              "    box-shadow: none;\n",
              "  }\n",
              "\n",
              "  .colab-df-spinner {\n",
              "    border: 2px solid var(--fill-color);\n",
              "    border-color: transparent;\n",
              "    border-bottom-color: var(--fill-color);\n",
              "    animation:\n",
              "      spin 1s steps(1) infinite;\n",
              "  }\n",
              "\n",
              "  @keyframes spin {\n",
              "    0% {\n",
              "      border-color: transparent;\n",
              "      border-bottom-color: var(--fill-color);\n",
              "      border-left-color: var(--fill-color);\n",
              "    }\n",
              "    20% {\n",
              "      border-color: transparent;\n",
              "      border-left-color: var(--fill-color);\n",
              "      border-top-color: var(--fill-color);\n",
              "    }\n",
              "    30% {\n",
              "      border-color: transparent;\n",
              "      border-left-color: var(--fill-color);\n",
              "      border-top-color: var(--fill-color);\n",
              "      border-right-color: var(--fill-color);\n",
              "    }\n",
              "    40% {\n",
              "      border-color: transparent;\n",
              "      border-right-color: var(--fill-color);\n",
              "      border-top-color: var(--fill-color);\n",
              "    }\n",
              "    60% {\n",
              "      border-color: transparent;\n",
              "      border-right-color: var(--fill-color);\n",
              "    }\n",
              "    80% {\n",
              "      border-color: transparent;\n",
              "      border-right-color: var(--fill-color);\n",
              "      border-bottom-color: var(--fill-color);\n",
              "    }\n",
              "    90% {\n",
              "      border-color: transparent;\n",
              "      border-bottom-color: var(--fill-color);\n",
              "    }\n",
              "  }\n",
              "</style>\n",
              "\n",
              "  <script>\n",
              "    async function quickchart(key) {\n",
              "      const quickchartButtonEl =\n",
              "        document.querySelector('#' + key + ' button');\n",
              "      quickchartButtonEl.disabled = true;  // To prevent multiple clicks.\n",
              "      quickchartButtonEl.classList.add('colab-df-spinner');\n",
              "      try {\n",
              "        const charts = await google.colab.kernel.invokeFunction(\n",
              "            'suggestCharts', [key], {});\n",
              "      } catch (error) {\n",
              "        console.error('Error during call to suggestCharts:', error);\n",
              "      }\n",
              "      quickchartButtonEl.classList.remove('colab-df-spinner');\n",
              "      quickchartButtonEl.classList.add('colab-df-quickchart-complete');\n",
              "    }\n",
              "    (() => {\n",
              "      let quickchartButtonEl =\n",
              "        document.querySelector('#df-6cedce9e-9d7a-483e-a12c-53cd63295826 button');\n",
              "      quickchartButtonEl.style.display =\n",
              "        google.colab.kernel.accessAllowed ? 'block' : 'none';\n",
              "    })();\n",
              "  </script>\n",
              "</div>\n",
              "\n",
              "    </div>\n",
              "  </div>\n"
            ],
            "application/vnd.google.colaboratory.intrinsic+json": {
              "type": "dataframe",
              "summary": "{\n  \"name\": \"#Variaveis n\\u00famericas n\\u00e3o precisa tratar\",\n  \"rows\": 5,\n  \"fields\": [\n    {\n      \"column\": \"id_cliente\",\n      \"properties\": {\n        \"dtype\": \"number\",\n        \"std\": 49778,\n        \"min\": 15619304,\n        \"max\": 15737888,\n        \"num_unique_values\": 5,\n        \"samples\": [\n          15647311,\n          15737888,\n          15619304\n        ],\n        \"semantic_type\": \"\",\n        \"description\": \"\"\n      }\n    },\n    {\n      \"column\": \"score_credito\",\n      \"properties\": {\n        \"dtype\": \"number\",\n        \"std\": 129,\n        \"min\": 502,\n        \"max\": 850,\n        \"num_unique_values\": 5,\n        \"samples\": [\n          608,\n          850,\n          502\n        ],\n        \"semantic_type\": \"\",\n        \"description\": \"\"\n      }\n    },\n    {\n      \"column\": \"idade\",\n      \"properties\": {\n        \"dtype\": \"number\",\n        \"std\": 1,\n        \"min\": 39,\n        \"max\": 43,\n        \"num_unique_values\": 4,\n        \"samples\": [\n          41,\n          43,\n          42\n        ],\n        \"semantic_type\": \"\",\n        \"description\": \"\"\n      }\n    },\n    {\n      \"column\": \"anos_de_cliente\",\n      \"properties\": {\n        \"dtype\": \"number\",\n        \"std\": 2,\n        \"min\": 1,\n        \"max\": 8,\n        \"num_unique_values\": 3,\n        \"samples\": [\n          2,\n          1,\n          8\n        ],\n        \"semantic_type\": \"\",\n        \"description\": \"\"\n      }\n    },\n    {\n      \"column\": \"saldo\",\n      \"properties\": {\n        \"dtype\": \"number\",\n        \"std\": 72524.34601442111,\n        \"min\": 0.0,\n        \"max\": 159660.8,\n        \"num_unique_values\": 4,\n        \"samples\": [\n          83807.86,\n          125510.82,\n          0.0\n        ],\n        \"semantic_type\": \"\",\n        \"description\": \"\"\n      }\n    },\n    {\n      \"column\": \"servicos_adquiridos\",\n      \"properties\": {\n        \"dtype\": \"number\",\n        \"std\": 0,\n        \"min\": 1,\n        \"max\": 3,\n        \"num_unique_values\": 3,\n        \"samples\": [\n          1,\n          3,\n          2\n        ],\n        \"semantic_type\": \"\",\n        \"description\": \"\"\n      }\n    },\n    {\n      \"column\": \"salario_estimado\",\n      \"properties\": {\n        \"dtype\": \"number\",\n        \"std\": 14393.593385557686,\n        \"min\": 79084.1,\n        \"max\": 113931.57,\n        \"num_unique_values\": 5,\n        \"samples\": [\n          112542.58,\n          79084.1,\n          113931.57\n        ],\n        \"semantic_type\": \"\",\n        \"description\": \"\"\n      }\n    },\n    {\n      \"column\": \"pais_Alemanha\",\n      \"properties\": {\n        \"dtype\": \"boolean\",\n        \"num_unique_values\": 1,\n        \"samples\": [\n          false\n        ],\n        \"semantic_type\": \"\",\n        \"description\": \"\"\n      }\n    },\n    {\n      \"column\": \"pais_Espanha\",\n      \"properties\": {\n        \"dtype\": \"boolean\",\n        \"num_unique_values\": 2,\n        \"samples\": [\n          true\n        ],\n        \"semantic_type\": \"\",\n        \"description\": \"\"\n      }\n    },\n    {\n      \"column\": \"pais_Fran\\u00e7a\",\n      \"properties\": {\n        \"dtype\": \"boolean\",\n        \"num_unique_values\": 2,\n        \"samples\": [\n          false\n        ],\n        \"semantic_type\": \"\",\n        \"description\": \"\"\n      }\n    }\n  ]\n}"
            }
          },
          "metadata": {},
          "execution_count": 18
        }
      ]
    },
    {
      "cell_type": "code",
      "source": [
        "dados_final = pd.concat([dados_binarios, dummie_dados], axis=1)\n",
        "dados_final.head()"
      ],
      "metadata": {
        "colab": {
          "base_uri": "https://localhost:8080/",
          "height": 226
        },
        "id": "DOyYmHhplB66",
        "outputId": "7ac163e0-4f55-4e41-d6b0-a3de47ce8fd7"
      },
      "execution_count": 19,
      "outputs": [
        {
          "output_type": "execute_result",
          "data": {
            "text/plain": [
              "   sexo_biologico  tem_cartao_credito  membro_ativo  churn  id_cliente  \\\n",
              "0               0                   1             1      1    15634602   \n",
              "1               0                   0             1      0    15647311   \n",
              "2               0                   1             0      1    15619304   \n",
              "3               0                   0             0      0    15701354   \n",
              "4               0                   1             1      0    15737888   \n",
              "\n",
              "   score_credito  idade  anos_de_cliente      saldo  servicos_adquiridos  \\\n",
              "0            619     42                2       0.00                    1   \n",
              "1            608     41                1   83807.86                    1   \n",
              "2            502     42                8  159660.80                    3   \n",
              "3            699     39                1       0.00                    2   \n",
              "4            850     43                2  125510.82                    1   \n",
              "\n",
              "   salario_estimado  pais_Alemanha  pais_Espanha  pais_França  \n",
              "0         101348.88          False         False         True  \n",
              "1         112542.58          False          True        False  \n",
              "2         113931.57          False         False         True  \n",
              "3          93826.63          False         False         True  \n",
              "4          79084.10          False          True        False  "
            ],
            "text/html": [
              "\n",
              "  <div id=\"df-c11507ea-59e6-48de-a018-cc12c7bccc74\" class=\"colab-df-container\">\n",
              "    <div>\n",
              "<style scoped>\n",
              "    .dataframe tbody tr th:only-of-type {\n",
              "        vertical-align: middle;\n",
              "    }\n",
              "\n",
              "    .dataframe tbody tr th {\n",
              "        vertical-align: top;\n",
              "    }\n",
              "\n",
              "    .dataframe thead th {\n",
              "        text-align: right;\n",
              "    }\n",
              "</style>\n",
              "<table border=\"1\" class=\"dataframe\">\n",
              "  <thead>\n",
              "    <tr style=\"text-align: right;\">\n",
              "      <th></th>\n",
              "      <th>sexo_biologico</th>\n",
              "      <th>tem_cartao_credito</th>\n",
              "      <th>membro_ativo</th>\n",
              "      <th>churn</th>\n",
              "      <th>id_cliente</th>\n",
              "      <th>score_credito</th>\n",
              "      <th>idade</th>\n",
              "      <th>anos_de_cliente</th>\n",
              "      <th>saldo</th>\n",
              "      <th>servicos_adquiridos</th>\n",
              "      <th>salario_estimado</th>\n",
              "      <th>pais_Alemanha</th>\n",
              "      <th>pais_Espanha</th>\n",
              "      <th>pais_França</th>\n",
              "    </tr>\n",
              "  </thead>\n",
              "  <tbody>\n",
              "    <tr>\n",
              "      <th>0</th>\n",
              "      <td>0</td>\n",
              "      <td>1</td>\n",
              "      <td>1</td>\n",
              "      <td>1</td>\n",
              "      <td>15634602</td>\n",
              "      <td>619</td>\n",
              "      <td>42</td>\n",
              "      <td>2</td>\n",
              "      <td>0.00</td>\n",
              "      <td>1</td>\n",
              "      <td>101348.88</td>\n",
              "      <td>False</td>\n",
              "      <td>False</td>\n",
              "      <td>True</td>\n",
              "    </tr>\n",
              "    <tr>\n",
              "      <th>1</th>\n",
              "      <td>0</td>\n",
              "      <td>0</td>\n",
              "      <td>1</td>\n",
              "      <td>0</td>\n",
              "      <td>15647311</td>\n",
              "      <td>608</td>\n",
              "      <td>41</td>\n",
              "      <td>1</td>\n",
              "      <td>83807.86</td>\n",
              "      <td>1</td>\n",
              "      <td>112542.58</td>\n",
              "      <td>False</td>\n",
              "      <td>True</td>\n",
              "      <td>False</td>\n",
              "    </tr>\n",
              "    <tr>\n",
              "      <th>2</th>\n",
              "      <td>0</td>\n",
              "      <td>1</td>\n",
              "      <td>0</td>\n",
              "      <td>1</td>\n",
              "      <td>15619304</td>\n",
              "      <td>502</td>\n",
              "      <td>42</td>\n",
              "      <td>8</td>\n",
              "      <td>159660.80</td>\n",
              "      <td>3</td>\n",
              "      <td>113931.57</td>\n",
              "      <td>False</td>\n",
              "      <td>False</td>\n",
              "      <td>True</td>\n",
              "    </tr>\n",
              "    <tr>\n",
              "      <th>3</th>\n",
              "      <td>0</td>\n",
              "      <td>0</td>\n",
              "      <td>0</td>\n",
              "      <td>0</td>\n",
              "      <td>15701354</td>\n",
              "      <td>699</td>\n",
              "      <td>39</td>\n",
              "      <td>1</td>\n",
              "      <td>0.00</td>\n",
              "      <td>2</td>\n",
              "      <td>93826.63</td>\n",
              "      <td>False</td>\n",
              "      <td>False</td>\n",
              "      <td>True</td>\n",
              "    </tr>\n",
              "    <tr>\n",
              "      <th>4</th>\n",
              "      <td>0</td>\n",
              "      <td>1</td>\n",
              "      <td>1</td>\n",
              "      <td>0</td>\n",
              "      <td>15737888</td>\n",
              "      <td>850</td>\n",
              "      <td>43</td>\n",
              "      <td>2</td>\n",
              "      <td>125510.82</td>\n",
              "      <td>1</td>\n",
              "      <td>79084.10</td>\n",
              "      <td>False</td>\n",
              "      <td>True</td>\n",
              "      <td>False</td>\n",
              "    </tr>\n",
              "  </tbody>\n",
              "</table>\n",
              "</div>\n",
              "    <div class=\"colab-df-buttons\">\n",
              "\n",
              "  <div class=\"colab-df-container\">\n",
              "    <button class=\"colab-df-convert\" onclick=\"convertToInteractive('df-c11507ea-59e6-48de-a018-cc12c7bccc74')\"\n",
              "            title=\"Convert this dataframe to an interactive table.\"\n",
              "            style=\"display:none;\">\n",
              "\n",
              "  <svg xmlns=\"http://www.w3.org/2000/svg\" height=\"24px\" viewBox=\"0 -960 960 960\">\n",
              "    <path d=\"M120-120v-720h720v720H120Zm60-500h600v-160H180v160Zm220 220h160v-160H400v160Zm0 220h160v-160H400v160ZM180-400h160v-160H180v160Zm440 0h160v-160H620v160ZM180-180h160v-160H180v160Zm440 0h160v-160H620v160Z\"/>\n",
              "  </svg>\n",
              "    </button>\n",
              "\n",
              "  <style>\n",
              "    .colab-df-container {\n",
              "      display:flex;\n",
              "      gap: 12px;\n",
              "    }\n",
              "\n",
              "    .colab-df-convert {\n",
              "      background-color: #E8F0FE;\n",
              "      border: none;\n",
              "      border-radius: 50%;\n",
              "      cursor: pointer;\n",
              "      display: none;\n",
              "      fill: #1967D2;\n",
              "      height: 32px;\n",
              "      padding: 0 0 0 0;\n",
              "      width: 32px;\n",
              "    }\n",
              "\n",
              "    .colab-df-convert:hover {\n",
              "      background-color: #E2EBFA;\n",
              "      box-shadow: 0px 1px 2px rgba(60, 64, 67, 0.3), 0px 1px 3px 1px rgba(60, 64, 67, 0.15);\n",
              "      fill: #174EA6;\n",
              "    }\n",
              "\n",
              "    .colab-df-buttons div {\n",
              "      margin-bottom: 4px;\n",
              "    }\n",
              "\n",
              "    [theme=dark] .colab-df-convert {\n",
              "      background-color: #3B4455;\n",
              "      fill: #D2E3FC;\n",
              "    }\n",
              "\n",
              "    [theme=dark] .colab-df-convert:hover {\n",
              "      background-color: #434B5C;\n",
              "      box-shadow: 0px 1px 3px 1px rgba(0, 0, 0, 0.15);\n",
              "      filter: drop-shadow(0px 1px 2px rgba(0, 0, 0, 0.3));\n",
              "      fill: #FFFFFF;\n",
              "    }\n",
              "  </style>\n",
              "\n",
              "    <script>\n",
              "      const buttonEl =\n",
              "        document.querySelector('#df-c11507ea-59e6-48de-a018-cc12c7bccc74 button.colab-df-convert');\n",
              "      buttonEl.style.display =\n",
              "        google.colab.kernel.accessAllowed ? 'block' : 'none';\n",
              "\n",
              "      async function convertToInteractive(key) {\n",
              "        const element = document.querySelector('#df-c11507ea-59e6-48de-a018-cc12c7bccc74');\n",
              "        const dataTable =\n",
              "          await google.colab.kernel.invokeFunction('convertToInteractive',\n",
              "                                                    [key], {});\n",
              "        if (!dataTable) return;\n",
              "\n",
              "        const docLinkHtml = 'Like what you see? Visit the ' +\n",
              "          '<a target=\"_blank\" href=https://colab.research.google.com/notebooks/data_table.ipynb>data table notebook</a>'\n",
              "          + ' to learn more about interactive tables.';\n",
              "        element.innerHTML = '';\n",
              "        dataTable['output_type'] = 'display_data';\n",
              "        await google.colab.output.renderOutput(dataTable, element);\n",
              "        const docLink = document.createElement('div');\n",
              "        docLink.innerHTML = docLinkHtml;\n",
              "        element.appendChild(docLink);\n",
              "      }\n",
              "    </script>\n",
              "  </div>\n",
              "\n",
              "\n",
              "<div id=\"df-db1511ad-1b50-43f9-94f6-3ced3ce21778\">\n",
              "  <button class=\"colab-df-quickchart\" onclick=\"quickchart('df-db1511ad-1b50-43f9-94f6-3ced3ce21778')\"\n",
              "            title=\"Suggest charts\"\n",
              "            style=\"display:none;\">\n",
              "\n",
              "<svg xmlns=\"http://www.w3.org/2000/svg\" height=\"24px\"viewBox=\"0 0 24 24\"\n",
              "     width=\"24px\">\n",
              "    <g>\n",
              "        <path d=\"M19 3H5c-1.1 0-2 .9-2 2v14c0 1.1.9 2 2 2h14c1.1 0 2-.9 2-2V5c0-1.1-.9-2-2-2zM9 17H7v-7h2v7zm4 0h-2V7h2v10zm4 0h-2v-4h2v4z\"/>\n",
              "    </g>\n",
              "</svg>\n",
              "  </button>\n",
              "\n",
              "<style>\n",
              "  .colab-df-quickchart {\n",
              "      --bg-color: #E8F0FE;\n",
              "      --fill-color: #1967D2;\n",
              "      --hover-bg-color: #E2EBFA;\n",
              "      --hover-fill-color: #174EA6;\n",
              "      --disabled-fill-color: #AAA;\n",
              "      --disabled-bg-color: #DDD;\n",
              "  }\n",
              "\n",
              "  [theme=dark] .colab-df-quickchart {\n",
              "      --bg-color: #3B4455;\n",
              "      --fill-color: #D2E3FC;\n",
              "      --hover-bg-color: #434B5C;\n",
              "      --hover-fill-color: #FFFFFF;\n",
              "      --disabled-bg-color: #3B4455;\n",
              "      --disabled-fill-color: #666;\n",
              "  }\n",
              "\n",
              "  .colab-df-quickchart {\n",
              "    background-color: var(--bg-color);\n",
              "    border: none;\n",
              "    border-radius: 50%;\n",
              "    cursor: pointer;\n",
              "    display: none;\n",
              "    fill: var(--fill-color);\n",
              "    height: 32px;\n",
              "    padding: 0;\n",
              "    width: 32px;\n",
              "  }\n",
              "\n",
              "  .colab-df-quickchart:hover {\n",
              "    background-color: var(--hover-bg-color);\n",
              "    box-shadow: 0 1px 2px rgba(60, 64, 67, 0.3), 0 1px 3px 1px rgba(60, 64, 67, 0.15);\n",
              "    fill: var(--button-hover-fill-color);\n",
              "  }\n",
              "\n",
              "  .colab-df-quickchart-complete:disabled,\n",
              "  .colab-df-quickchart-complete:disabled:hover {\n",
              "    background-color: var(--disabled-bg-color);\n",
              "    fill: var(--disabled-fill-color);\n",
              "    box-shadow: none;\n",
              "  }\n",
              "\n",
              "  .colab-df-spinner {\n",
              "    border: 2px solid var(--fill-color);\n",
              "    border-color: transparent;\n",
              "    border-bottom-color: var(--fill-color);\n",
              "    animation:\n",
              "      spin 1s steps(1) infinite;\n",
              "  }\n",
              "\n",
              "  @keyframes spin {\n",
              "    0% {\n",
              "      border-color: transparent;\n",
              "      border-bottom-color: var(--fill-color);\n",
              "      border-left-color: var(--fill-color);\n",
              "    }\n",
              "    20% {\n",
              "      border-color: transparent;\n",
              "      border-left-color: var(--fill-color);\n",
              "      border-top-color: var(--fill-color);\n",
              "    }\n",
              "    30% {\n",
              "      border-color: transparent;\n",
              "      border-left-color: var(--fill-color);\n",
              "      border-top-color: var(--fill-color);\n",
              "      border-right-color: var(--fill-color);\n",
              "    }\n",
              "    40% {\n",
              "      border-color: transparent;\n",
              "      border-right-color: var(--fill-color);\n",
              "      border-top-color: var(--fill-color);\n",
              "    }\n",
              "    60% {\n",
              "      border-color: transparent;\n",
              "      border-right-color: var(--fill-color);\n",
              "    }\n",
              "    80% {\n",
              "      border-color: transparent;\n",
              "      border-right-color: var(--fill-color);\n",
              "      border-bottom-color: var(--fill-color);\n",
              "    }\n",
              "    90% {\n",
              "      border-color: transparent;\n",
              "      border-bottom-color: var(--fill-color);\n",
              "    }\n",
              "  }\n",
              "</style>\n",
              "\n",
              "  <script>\n",
              "    async function quickchart(key) {\n",
              "      const quickchartButtonEl =\n",
              "        document.querySelector('#' + key + ' button');\n",
              "      quickchartButtonEl.disabled = true;  // To prevent multiple clicks.\n",
              "      quickchartButtonEl.classList.add('colab-df-spinner');\n",
              "      try {\n",
              "        const charts = await google.colab.kernel.invokeFunction(\n",
              "            'suggestCharts', [key], {});\n",
              "      } catch (error) {\n",
              "        console.error('Error during call to suggestCharts:', error);\n",
              "      }\n",
              "      quickchartButtonEl.classList.remove('colab-df-spinner');\n",
              "      quickchartButtonEl.classList.add('colab-df-quickchart-complete');\n",
              "    }\n",
              "    (() => {\n",
              "      let quickchartButtonEl =\n",
              "        document.querySelector('#df-db1511ad-1b50-43f9-94f6-3ced3ce21778 button');\n",
              "      quickchartButtonEl.style.display =\n",
              "        google.colab.kernel.accessAllowed ? 'block' : 'none';\n",
              "    })();\n",
              "  </script>\n",
              "</div>\n",
              "\n",
              "    </div>\n",
              "  </div>\n"
            ],
            "application/vnd.google.colaboratory.intrinsic+json": {
              "type": "dataframe",
              "variable_name": "dados_final",
              "summary": "{\n  \"name\": \"dados_final\",\n  \"rows\": 10000,\n  \"fields\": [\n    {\n      \"column\": \"sexo_biologico\",\n      \"properties\": {\n        \"dtype\": \"number\",\n        \"std\": 0,\n        \"min\": 0,\n        \"max\": 1,\n        \"num_unique_values\": 2,\n        \"samples\": [\n          1,\n          0\n        ],\n        \"semantic_type\": \"\",\n        \"description\": \"\"\n      }\n    },\n    {\n      \"column\": \"tem_cartao_credito\",\n      \"properties\": {\n        \"dtype\": \"number\",\n        \"std\": 0,\n        \"min\": 0,\n        \"max\": 1,\n        \"num_unique_values\": 2,\n        \"samples\": [\n          0,\n          1\n        ],\n        \"semantic_type\": \"\",\n        \"description\": \"\"\n      }\n    },\n    {\n      \"column\": \"membro_ativo\",\n      \"properties\": {\n        \"dtype\": \"number\",\n        \"std\": 0,\n        \"min\": 0,\n        \"max\": 1,\n        \"num_unique_values\": 2,\n        \"samples\": [\n          0,\n          1\n        ],\n        \"semantic_type\": \"\",\n        \"description\": \"\"\n      }\n    },\n    {\n      \"column\": \"churn\",\n      \"properties\": {\n        \"dtype\": \"number\",\n        \"std\": 0,\n        \"min\": 0,\n        \"max\": 1,\n        \"num_unique_values\": 2,\n        \"samples\": [\n          0,\n          1\n        ],\n        \"semantic_type\": \"\",\n        \"description\": \"\"\n      }\n    },\n    {\n      \"column\": \"id_cliente\",\n      \"properties\": {\n        \"dtype\": \"number\",\n        \"std\": 71936,\n        \"min\": 15565701,\n        \"max\": 15815690,\n        \"num_unique_values\": 10000,\n        \"samples\": [\n          15687492,\n          15736963\n        ],\n        \"semantic_type\": \"\",\n        \"description\": \"\"\n      }\n    },\n    {\n      \"column\": \"score_credito\",\n      \"properties\": {\n        \"dtype\": \"number\",\n        \"std\": 96,\n        \"min\": 350,\n        \"max\": 850,\n        \"num_unique_values\": 460,\n        \"samples\": [\n          754,\n          533\n        ],\n        \"semantic_type\": \"\",\n        \"description\": \"\"\n      }\n    },\n    {\n      \"column\": \"idade\",\n      \"properties\": {\n        \"dtype\": \"number\",\n        \"std\": 10,\n        \"min\": 18,\n        \"max\": 92,\n        \"num_unique_values\": 70,\n        \"samples\": [\n          61,\n          42\n        ],\n        \"semantic_type\": \"\",\n        \"description\": \"\"\n      }\n    },\n    {\n      \"column\": \"anos_de_cliente\",\n      \"properties\": {\n        \"dtype\": \"number\",\n        \"std\": 2,\n        \"min\": 0,\n        \"max\": 10,\n        \"num_unique_values\": 11,\n        \"samples\": [\n          6,\n          2\n        ],\n        \"semantic_type\": \"\",\n        \"description\": \"\"\n      }\n    },\n    {\n      \"column\": \"saldo\",\n      \"properties\": {\n        \"dtype\": \"number\",\n        \"std\": 62397.405202385955,\n        \"min\": 0.0,\n        \"max\": 250898.09,\n        \"num_unique_values\": 6382,\n        \"samples\": [\n          117707.18,\n          133050.97\n        ],\n        \"semantic_type\": \"\",\n        \"description\": \"\"\n      }\n    },\n    {\n      \"column\": \"servicos_adquiridos\",\n      \"properties\": {\n        \"dtype\": \"number\",\n        \"std\": 0,\n        \"min\": 1,\n        \"max\": 4,\n        \"num_unique_values\": 4,\n        \"samples\": [\n          3,\n          4\n        ],\n        \"semantic_type\": \"\",\n        \"description\": \"\"\n      }\n    },\n    {\n      \"column\": \"salario_estimado\",\n      \"properties\": {\n        \"dtype\": \"number\",\n        \"std\": 57510.49281769816,\n        \"min\": 11.58,\n        \"max\": 199992.48,\n        \"num_unique_values\": 9999,\n        \"samples\": [\n          100809.99,\n          95273.73\n        ],\n        \"semantic_type\": \"\",\n        \"description\": \"\"\n      }\n    },\n    {\n      \"column\": \"pais_Alemanha\",\n      \"properties\": {\n        \"dtype\": \"boolean\",\n        \"num_unique_values\": 2,\n        \"samples\": [\n          true,\n          false\n        ],\n        \"semantic_type\": \"\",\n        \"description\": \"\"\n      }\n    },\n    {\n      \"column\": \"pais_Espanha\",\n      \"properties\": {\n        \"dtype\": \"boolean\",\n        \"num_unique_values\": 2,\n        \"samples\": [\n          true,\n          false\n        ],\n        \"semantic_type\": \"\",\n        \"description\": \"\"\n      }\n    },\n    {\n      \"column\": \"pais_Fran\\u00e7a\",\n      \"properties\": {\n        \"dtype\": \"boolean\",\n        \"num_unique_values\": 2,\n        \"samples\": [\n          false,\n          true\n        ],\n        \"semantic_type\": \"\",\n        \"description\": \"\"\n      }\n    }\n  ]\n}"
            }
          },
          "metadata": {},
          "execution_count": 19
        }
      ]
    },
    {
      "cell_type": "markdown",
      "source": [
        "## 1.3 - Definição Formal"
      ],
      "metadata": {
        "id": "D1YLHA3h37s1"
      }
    },
    {
      "cell_type": "markdown",
      "source": [
        "Informações para classificação:\n",
        "\n",
        "$X$ = inputs (dados de entrada)\n",
        "\n",
        "$y$ = outputs (dados de saída)"
      ],
      "metadata": {
        "id": "sSgnt7QWM5rm"
      }
    },
    {
      "cell_type": "code",
      "source": [
        "#DICA\n",
        "pd.set_option('display.max_columns', 39)"
      ],
      "metadata": {
        "id": "k_o0S4UyOqzd"
      },
      "execution_count": 20,
      "outputs": []
    },
    {
      "cell_type": "code",
      "source": [
        "dados_final.head()"
      ],
      "metadata": {
        "id": "oiHVlSC737NE",
        "colab": {
          "base_uri": "https://localhost:8080/",
          "height": 226
        },
        "outputId": "3e8ea1e8-bc7c-4bf7-d5b0-3ce5e97dc4c3"
      },
      "execution_count": 21,
      "outputs": [
        {
          "output_type": "execute_result",
          "data": {
            "text/plain": [
              "   sexo_biologico  tem_cartao_credito  membro_ativo  churn  id_cliente  \\\n",
              "0               0                   1             1      1    15634602   \n",
              "1               0                   0             1      0    15647311   \n",
              "2               0                   1             0      1    15619304   \n",
              "3               0                   0             0      0    15701354   \n",
              "4               0                   1             1      0    15737888   \n",
              "\n",
              "   score_credito  idade  anos_de_cliente      saldo  servicos_adquiridos  \\\n",
              "0            619     42                2       0.00                    1   \n",
              "1            608     41                1   83807.86                    1   \n",
              "2            502     42                8  159660.80                    3   \n",
              "3            699     39                1       0.00                    2   \n",
              "4            850     43                2  125510.82                    1   \n",
              "\n",
              "   salario_estimado  pais_Alemanha  pais_Espanha  pais_França  \n",
              "0         101348.88          False         False         True  \n",
              "1         112542.58          False          True        False  \n",
              "2         113931.57          False         False         True  \n",
              "3          93826.63          False         False         True  \n",
              "4          79084.10          False          True        False  "
            ],
            "text/html": [
              "\n",
              "  <div id=\"df-51e4b868-2cce-44b8-bfea-c996f272615a\" class=\"colab-df-container\">\n",
              "    <div>\n",
              "<style scoped>\n",
              "    .dataframe tbody tr th:only-of-type {\n",
              "        vertical-align: middle;\n",
              "    }\n",
              "\n",
              "    .dataframe tbody tr th {\n",
              "        vertical-align: top;\n",
              "    }\n",
              "\n",
              "    .dataframe thead th {\n",
              "        text-align: right;\n",
              "    }\n",
              "</style>\n",
              "<table border=\"1\" class=\"dataframe\">\n",
              "  <thead>\n",
              "    <tr style=\"text-align: right;\">\n",
              "      <th></th>\n",
              "      <th>sexo_biologico</th>\n",
              "      <th>tem_cartao_credito</th>\n",
              "      <th>membro_ativo</th>\n",
              "      <th>churn</th>\n",
              "      <th>id_cliente</th>\n",
              "      <th>score_credito</th>\n",
              "      <th>idade</th>\n",
              "      <th>anos_de_cliente</th>\n",
              "      <th>saldo</th>\n",
              "      <th>servicos_adquiridos</th>\n",
              "      <th>salario_estimado</th>\n",
              "      <th>pais_Alemanha</th>\n",
              "      <th>pais_Espanha</th>\n",
              "      <th>pais_França</th>\n",
              "    </tr>\n",
              "  </thead>\n",
              "  <tbody>\n",
              "    <tr>\n",
              "      <th>0</th>\n",
              "      <td>0</td>\n",
              "      <td>1</td>\n",
              "      <td>1</td>\n",
              "      <td>1</td>\n",
              "      <td>15634602</td>\n",
              "      <td>619</td>\n",
              "      <td>42</td>\n",
              "      <td>2</td>\n",
              "      <td>0.00</td>\n",
              "      <td>1</td>\n",
              "      <td>101348.88</td>\n",
              "      <td>False</td>\n",
              "      <td>False</td>\n",
              "      <td>True</td>\n",
              "    </tr>\n",
              "    <tr>\n",
              "      <th>1</th>\n",
              "      <td>0</td>\n",
              "      <td>0</td>\n",
              "      <td>1</td>\n",
              "      <td>0</td>\n",
              "      <td>15647311</td>\n",
              "      <td>608</td>\n",
              "      <td>41</td>\n",
              "      <td>1</td>\n",
              "      <td>83807.86</td>\n",
              "      <td>1</td>\n",
              "      <td>112542.58</td>\n",
              "      <td>False</td>\n",
              "      <td>True</td>\n",
              "      <td>False</td>\n",
              "    </tr>\n",
              "    <tr>\n",
              "      <th>2</th>\n",
              "      <td>0</td>\n",
              "      <td>1</td>\n",
              "      <td>0</td>\n",
              "      <td>1</td>\n",
              "      <td>15619304</td>\n",
              "      <td>502</td>\n",
              "      <td>42</td>\n",
              "      <td>8</td>\n",
              "      <td>159660.80</td>\n",
              "      <td>3</td>\n",
              "      <td>113931.57</td>\n",
              "      <td>False</td>\n",
              "      <td>False</td>\n",
              "      <td>True</td>\n",
              "    </tr>\n",
              "    <tr>\n",
              "      <th>3</th>\n",
              "      <td>0</td>\n",
              "      <td>0</td>\n",
              "      <td>0</td>\n",
              "      <td>0</td>\n",
              "      <td>15701354</td>\n",
              "      <td>699</td>\n",
              "      <td>39</td>\n",
              "      <td>1</td>\n",
              "      <td>0.00</td>\n",
              "      <td>2</td>\n",
              "      <td>93826.63</td>\n",
              "      <td>False</td>\n",
              "      <td>False</td>\n",
              "      <td>True</td>\n",
              "    </tr>\n",
              "    <tr>\n",
              "      <th>4</th>\n",
              "      <td>0</td>\n",
              "      <td>1</td>\n",
              "      <td>1</td>\n",
              "      <td>0</td>\n",
              "      <td>15737888</td>\n",
              "      <td>850</td>\n",
              "      <td>43</td>\n",
              "      <td>2</td>\n",
              "      <td>125510.82</td>\n",
              "      <td>1</td>\n",
              "      <td>79084.10</td>\n",
              "      <td>False</td>\n",
              "      <td>True</td>\n",
              "      <td>False</td>\n",
              "    </tr>\n",
              "  </tbody>\n",
              "</table>\n",
              "</div>\n",
              "    <div class=\"colab-df-buttons\">\n",
              "\n",
              "  <div class=\"colab-df-container\">\n",
              "    <button class=\"colab-df-convert\" onclick=\"convertToInteractive('df-51e4b868-2cce-44b8-bfea-c996f272615a')\"\n",
              "            title=\"Convert this dataframe to an interactive table.\"\n",
              "            style=\"display:none;\">\n",
              "\n",
              "  <svg xmlns=\"http://www.w3.org/2000/svg\" height=\"24px\" viewBox=\"0 -960 960 960\">\n",
              "    <path d=\"M120-120v-720h720v720H120Zm60-500h600v-160H180v160Zm220 220h160v-160H400v160Zm0 220h160v-160H400v160ZM180-400h160v-160H180v160Zm440 0h160v-160H620v160ZM180-180h160v-160H180v160Zm440 0h160v-160H620v160Z\"/>\n",
              "  </svg>\n",
              "    </button>\n",
              "\n",
              "  <style>\n",
              "    .colab-df-container {\n",
              "      display:flex;\n",
              "      gap: 12px;\n",
              "    }\n",
              "\n",
              "    .colab-df-convert {\n",
              "      background-color: #E8F0FE;\n",
              "      border: none;\n",
              "      border-radius: 50%;\n",
              "      cursor: pointer;\n",
              "      display: none;\n",
              "      fill: #1967D2;\n",
              "      height: 32px;\n",
              "      padding: 0 0 0 0;\n",
              "      width: 32px;\n",
              "    }\n",
              "\n",
              "    .colab-df-convert:hover {\n",
              "      background-color: #E2EBFA;\n",
              "      box-shadow: 0px 1px 2px rgba(60, 64, 67, 0.3), 0px 1px 3px 1px rgba(60, 64, 67, 0.15);\n",
              "      fill: #174EA6;\n",
              "    }\n",
              "\n",
              "    .colab-df-buttons div {\n",
              "      margin-bottom: 4px;\n",
              "    }\n",
              "\n",
              "    [theme=dark] .colab-df-convert {\n",
              "      background-color: #3B4455;\n",
              "      fill: #D2E3FC;\n",
              "    }\n",
              "\n",
              "    [theme=dark] .colab-df-convert:hover {\n",
              "      background-color: #434B5C;\n",
              "      box-shadow: 0px 1px 3px 1px rgba(0, 0, 0, 0.15);\n",
              "      filter: drop-shadow(0px 1px 2px rgba(0, 0, 0, 0.3));\n",
              "      fill: #FFFFFF;\n",
              "    }\n",
              "  </style>\n",
              "\n",
              "    <script>\n",
              "      const buttonEl =\n",
              "        document.querySelector('#df-51e4b868-2cce-44b8-bfea-c996f272615a button.colab-df-convert');\n",
              "      buttonEl.style.display =\n",
              "        google.colab.kernel.accessAllowed ? 'block' : 'none';\n",
              "\n",
              "      async function convertToInteractive(key) {\n",
              "        const element = document.querySelector('#df-51e4b868-2cce-44b8-bfea-c996f272615a');\n",
              "        const dataTable =\n",
              "          await google.colab.kernel.invokeFunction('convertToInteractive',\n",
              "                                                    [key], {});\n",
              "        if (!dataTable) return;\n",
              "\n",
              "        const docLinkHtml = 'Like what you see? Visit the ' +\n",
              "          '<a target=\"_blank\" href=https://colab.research.google.com/notebooks/data_table.ipynb>data table notebook</a>'\n",
              "          + ' to learn more about interactive tables.';\n",
              "        element.innerHTML = '';\n",
              "        dataTable['output_type'] = 'display_data';\n",
              "        await google.colab.output.renderOutput(dataTable, element);\n",
              "        const docLink = document.createElement('div');\n",
              "        docLink.innerHTML = docLinkHtml;\n",
              "        element.appendChild(docLink);\n",
              "      }\n",
              "    </script>\n",
              "  </div>\n",
              "\n",
              "\n",
              "<div id=\"df-e1314bf4-5755-4c4f-82c7-9faaec9bbd36\">\n",
              "  <button class=\"colab-df-quickchart\" onclick=\"quickchart('df-e1314bf4-5755-4c4f-82c7-9faaec9bbd36')\"\n",
              "            title=\"Suggest charts\"\n",
              "            style=\"display:none;\">\n",
              "\n",
              "<svg xmlns=\"http://www.w3.org/2000/svg\" height=\"24px\"viewBox=\"0 0 24 24\"\n",
              "     width=\"24px\">\n",
              "    <g>\n",
              "        <path d=\"M19 3H5c-1.1 0-2 .9-2 2v14c0 1.1.9 2 2 2h14c1.1 0 2-.9 2-2V5c0-1.1-.9-2-2-2zM9 17H7v-7h2v7zm4 0h-2V7h2v10zm4 0h-2v-4h2v4z\"/>\n",
              "    </g>\n",
              "</svg>\n",
              "  </button>\n",
              "\n",
              "<style>\n",
              "  .colab-df-quickchart {\n",
              "      --bg-color: #E8F0FE;\n",
              "      --fill-color: #1967D2;\n",
              "      --hover-bg-color: #E2EBFA;\n",
              "      --hover-fill-color: #174EA6;\n",
              "      --disabled-fill-color: #AAA;\n",
              "      --disabled-bg-color: #DDD;\n",
              "  }\n",
              "\n",
              "  [theme=dark] .colab-df-quickchart {\n",
              "      --bg-color: #3B4455;\n",
              "      --fill-color: #D2E3FC;\n",
              "      --hover-bg-color: #434B5C;\n",
              "      --hover-fill-color: #FFFFFF;\n",
              "      --disabled-bg-color: #3B4455;\n",
              "      --disabled-fill-color: #666;\n",
              "  }\n",
              "\n",
              "  .colab-df-quickchart {\n",
              "    background-color: var(--bg-color);\n",
              "    border: none;\n",
              "    border-radius: 50%;\n",
              "    cursor: pointer;\n",
              "    display: none;\n",
              "    fill: var(--fill-color);\n",
              "    height: 32px;\n",
              "    padding: 0;\n",
              "    width: 32px;\n",
              "  }\n",
              "\n",
              "  .colab-df-quickchart:hover {\n",
              "    background-color: var(--hover-bg-color);\n",
              "    box-shadow: 0 1px 2px rgba(60, 64, 67, 0.3), 0 1px 3px 1px rgba(60, 64, 67, 0.15);\n",
              "    fill: var(--button-hover-fill-color);\n",
              "  }\n",
              "\n",
              "  .colab-df-quickchart-complete:disabled,\n",
              "  .colab-df-quickchart-complete:disabled:hover {\n",
              "    background-color: var(--disabled-bg-color);\n",
              "    fill: var(--disabled-fill-color);\n",
              "    box-shadow: none;\n",
              "  }\n",
              "\n",
              "  .colab-df-spinner {\n",
              "    border: 2px solid var(--fill-color);\n",
              "    border-color: transparent;\n",
              "    border-bottom-color: var(--fill-color);\n",
              "    animation:\n",
              "      spin 1s steps(1) infinite;\n",
              "  }\n",
              "\n",
              "  @keyframes spin {\n",
              "    0% {\n",
              "      border-color: transparent;\n",
              "      border-bottom-color: var(--fill-color);\n",
              "      border-left-color: var(--fill-color);\n",
              "    }\n",
              "    20% {\n",
              "      border-color: transparent;\n",
              "      border-left-color: var(--fill-color);\n",
              "      border-top-color: var(--fill-color);\n",
              "    }\n",
              "    30% {\n",
              "      border-color: transparent;\n",
              "      border-left-color: var(--fill-color);\n",
              "      border-top-color: var(--fill-color);\n",
              "      border-right-color: var(--fill-color);\n",
              "    }\n",
              "    40% {\n",
              "      border-color: transparent;\n",
              "      border-right-color: var(--fill-color);\n",
              "      border-top-color: var(--fill-color);\n",
              "    }\n",
              "    60% {\n",
              "      border-color: transparent;\n",
              "      border-right-color: var(--fill-color);\n",
              "    }\n",
              "    80% {\n",
              "      border-color: transparent;\n",
              "      border-right-color: var(--fill-color);\n",
              "      border-bottom-color: var(--fill-color);\n",
              "    }\n",
              "    90% {\n",
              "      border-color: transparent;\n",
              "      border-bottom-color: var(--fill-color);\n",
              "    }\n",
              "  }\n",
              "</style>\n",
              "\n",
              "  <script>\n",
              "    async function quickchart(key) {\n",
              "      const quickchartButtonEl =\n",
              "        document.querySelector('#' + key + ' button');\n",
              "      quickchartButtonEl.disabled = true;  // To prevent multiple clicks.\n",
              "      quickchartButtonEl.classList.add('colab-df-spinner');\n",
              "      try {\n",
              "        const charts = await google.colab.kernel.invokeFunction(\n",
              "            'suggestCharts', [key], {});\n",
              "      } catch (error) {\n",
              "        console.error('Error during call to suggestCharts:', error);\n",
              "      }\n",
              "      quickchartButtonEl.classList.remove('colab-df-spinner');\n",
              "      quickchartButtonEl.classList.add('colab-df-quickchart-complete');\n",
              "    }\n",
              "    (() => {\n",
              "      let quickchartButtonEl =\n",
              "        document.querySelector('#df-e1314bf4-5755-4c4f-82c7-9faaec9bbd36 button');\n",
              "      quickchartButtonEl.style.display =\n",
              "        google.colab.kernel.accessAllowed ? 'block' : 'none';\n",
              "    })();\n",
              "  </script>\n",
              "</div>\n",
              "\n",
              "    </div>\n",
              "  </div>\n"
            ],
            "application/vnd.google.colaboratory.intrinsic+json": {
              "type": "dataframe",
              "variable_name": "dados_final",
              "summary": "{\n  \"name\": \"dados_final\",\n  \"rows\": 10000,\n  \"fields\": [\n    {\n      \"column\": \"sexo_biologico\",\n      \"properties\": {\n        \"dtype\": \"number\",\n        \"std\": 0,\n        \"min\": 0,\n        \"max\": 1,\n        \"num_unique_values\": 2,\n        \"samples\": [\n          1,\n          0\n        ],\n        \"semantic_type\": \"\",\n        \"description\": \"\"\n      }\n    },\n    {\n      \"column\": \"tem_cartao_credito\",\n      \"properties\": {\n        \"dtype\": \"number\",\n        \"std\": 0,\n        \"min\": 0,\n        \"max\": 1,\n        \"num_unique_values\": 2,\n        \"samples\": [\n          0,\n          1\n        ],\n        \"semantic_type\": \"\",\n        \"description\": \"\"\n      }\n    },\n    {\n      \"column\": \"membro_ativo\",\n      \"properties\": {\n        \"dtype\": \"number\",\n        \"std\": 0,\n        \"min\": 0,\n        \"max\": 1,\n        \"num_unique_values\": 2,\n        \"samples\": [\n          0,\n          1\n        ],\n        \"semantic_type\": \"\",\n        \"description\": \"\"\n      }\n    },\n    {\n      \"column\": \"churn\",\n      \"properties\": {\n        \"dtype\": \"number\",\n        \"std\": 0,\n        \"min\": 0,\n        \"max\": 1,\n        \"num_unique_values\": 2,\n        \"samples\": [\n          0,\n          1\n        ],\n        \"semantic_type\": \"\",\n        \"description\": \"\"\n      }\n    },\n    {\n      \"column\": \"id_cliente\",\n      \"properties\": {\n        \"dtype\": \"number\",\n        \"std\": 71936,\n        \"min\": 15565701,\n        \"max\": 15815690,\n        \"num_unique_values\": 10000,\n        \"samples\": [\n          15687492,\n          15736963\n        ],\n        \"semantic_type\": \"\",\n        \"description\": \"\"\n      }\n    },\n    {\n      \"column\": \"score_credito\",\n      \"properties\": {\n        \"dtype\": \"number\",\n        \"std\": 96,\n        \"min\": 350,\n        \"max\": 850,\n        \"num_unique_values\": 460,\n        \"samples\": [\n          754,\n          533\n        ],\n        \"semantic_type\": \"\",\n        \"description\": \"\"\n      }\n    },\n    {\n      \"column\": \"idade\",\n      \"properties\": {\n        \"dtype\": \"number\",\n        \"std\": 10,\n        \"min\": 18,\n        \"max\": 92,\n        \"num_unique_values\": 70,\n        \"samples\": [\n          61,\n          42\n        ],\n        \"semantic_type\": \"\",\n        \"description\": \"\"\n      }\n    },\n    {\n      \"column\": \"anos_de_cliente\",\n      \"properties\": {\n        \"dtype\": \"number\",\n        \"std\": 2,\n        \"min\": 0,\n        \"max\": 10,\n        \"num_unique_values\": 11,\n        \"samples\": [\n          6,\n          2\n        ],\n        \"semantic_type\": \"\",\n        \"description\": \"\"\n      }\n    },\n    {\n      \"column\": \"saldo\",\n      \"properties\": {\n        \"dtype\": \"number\",\n        \"std\": 62397.405202385955,\n        \"min\": 0.0,\n        \"max\": 250898.09,\n        \"num_unique_values\": 6382,\n        \"samples\": [\n          117707.18,\n          133050.97\n        ],\n        \"semantic_type\": \"\",\n        \"description\": \"\"\n      }\n    },\n    {\n      \"column\": \"servicos_adquiridos\",\n      \"properties\": {\n        \"dtype\": \"number\",\n        \"std\": 0,\n        \"min\": 1,\n        \"max\": 4,\n        \"num_unique_values\": 4,\n        \"samples\": [\n          3,\n          4\n        ],\n        \"semantic_type\": \"\",\n        \"description\": \"\"\n      }\n    },\n    {\n      \"column\": \"salario_estimado\",\n      \"properties\": {\n        \"dtype\": \"number\",\n        \"std\": 57510.49281769816,\n        \"min\": 11.58,\n        \"max\": 199992.48,\n        \"num_unique_values\": 9999,\n        \"samples\": [\n          100809.99,\n          95273.73\n        ],\n        \"semantic_type\": \"\",\n        \"description\": \"\"\n      }\n    },\n    {\n      \"column\": \"pais_Alemanha\",\n      \"properties\": {\n        \"dtype\": \"boolean\",\n        \"num_unique_values\": 2,\n        \"samples\": [\n          true,\n          false\n        ],\n        \"semantic_type\": \"\",\n        \"description\": \"\"\n      }\n    },\n    {\n      \"column\": \"pais_Espanha\",\n      \"properties\": {\n        \"dtype\": \"boolean\",\n        \"num_unique_values\": 2,\n        \"samples\": [\n          true,\n          false\n        ],\n        \"semantic_type\": \"\",\n        \"description\": \"\"\n      }\n    },\n    {\n      \"column\": \"pais_Fran\\u00e7a\",\n      \"properties\": {\n        \"dtype\": \"boolean\",\n        \"num_unique_values\": 2,\n        \"samples\": [\n          false,\n          true\n        ],\n        \"semantic_type\": \"\",\n        \"description\": \"\"\n      }\n    }\n  ]\n}"
            }
          },
          "metadata": {},
          "execution_count": 21
        }
      ]
    },
    {
      "cell_type": "markdown",
      "source": [
        "\n",
        "$y_i$ = $f(x_i)$"
      ],
      "metadata": {
        "id": "mlxxn4VYTQnV"
      }
    },
    {
      "cell_type": "code",
      "source": [
        "Xmaria =[[0,1,1,0,0,0,1,1,0,1,0,1,0]]"
      ],
      "metadata": {
        "id": "JVqSH1yp4Cq2"
      },
      "execution_count": 36,
      "outputs": []
    },
    {
      "cell_type": "code",
      "source": [
        "#ymaria = ?"
      ],
      "metadata": {
        "id": "1Btl3Wct4CoN"
      },
      "execution_count": 24,
      "outputs": []
    },
    {
      "cell_type": "markdown",
      "source": [
        "Novos pares de informações = ($Xmaria$, $ymaria$)"
      ],
      "metadata": {
        "id": "n4nyxwPFTncE"
      }
    },
    {
      "cell_type": "markdown",
      "source": [
        "## 1.4 Balanceamento dos dados"
      ],
      "metadata": {
        "id": "zCcuXt0FZfNe"
      }
    },
    {
      "cell_type": "code",
      "source": [
        "dados_final['churn'].value_counts()"
      ],
      "metadata": {
        "colab": {
          "base_uri": "https://localhost:8080/",
          "height": 178
        },
        "id": "gPCC6uPgoKf8",
        "outputId": "36ec774b-1dcf-4185-f9f5-bbff2af0e0ae"
      },
      "execution_count": 26,
      "outputs": [
        {
          "output_type": "execute_result",
          "data": {
            "text/plain": [
              "churn\n",
              "0    7963\n",
              "1    2037\n",
              "Name: count, dtype: int64"
            ],
            "text/html": [
              "<div>\n",
              "<style scoped>\n",
              "    .dataframe tbody tr th:only-of-type {\n",
              "        vertical-align: middle;\n",
              "    }\n",
              "\n",
              "    .dataframe tbody tr th {\n",
              "        vertical-align: top;\n",
              "    }\n",
              "\n",
              "    .dataframe thead th {\n",
              "        text-align: right;\n",
              "    }\n",
              "</style>\n",
              "<table border=\"1\" class=\"dataframe\">\n",
              "  <thead>\n",
              "    <tr style=\"text-align: right;\">\n",
              "      <th></th>\n",
              "      <th>count</th>\n",
              "    </tr>\n",
              "    <tr>\n",
              "      <th>churn</th>\n",
              "      <th></th>\n",
              "    </tr>\n",
              "  </thead>\n",
              "  <tbody>\n",
              "    <tr>\n",
              "      <th>0</th>\n",
              "      <td>7963</td>\n",
              "    </tr>\n",
              "    <tr>\n",
              "      <th>1</th>\n",
              "      <td>2037</td>\n",
              "    </tr>\n",
              "  </tbody>\n",
              "</table>\n",
              "</div><br><label><b>dtype:</b> int64</label>"
            ]
          },
          "metadata": {},
          "execution_count": 26
        }
      ]
    },
    {
      "cell_type": "code",
      "source": [
        "#varialvel target está desbalanceada\n",
        "\n",
        "import seaborn as sns\n",
        "ax = sns.countplot(x= 'churn', hue = 'churn', data = dados_final)"
      ],
      "metadata": {
        "id": "Q6UEOCOSV6qu",
        "colab": {
          "base_uri": "https://localhost:8080/",
          "height": 449
        },
        "outputId": "6a009b3e-c5de-4fcc-d488-472b013e2e1c"
      },
      "execution_count": 27,
      "outputs": [
        {
          "output_type": "display_data",
          "data": {
            "text/plain": [
              "<Figure size 640x480 with 1 Axes>"
            ],
            "image/png": "[encoded data removed]"
          },
          "metadata": {}
        }
      ]
    },
    {
      "cell_type": "markdown",
      "source": [
        "https://medium.com/turing-talks/dados-desbalanceados-o-que-s%C3%A3o-e-como-evit%C3%A1-los-43df4f49732b  - Ler essa matéria"
      ],
      "metadata": {
        "id": "EgLe5L94pcrM"
      }
    },
    {
      "cell_type": "code",
      "source": [
        "#bibliorteca para balancear os dados utilizando over_sampling\n",
        "from imblearn.over_sampling import SMOTE\n",
        "\n",
        "#https://medium.com/turing-talks/dados-desbalanceados-o-que-s%C3%A3o-e-como-evit%C3%A1-los-43df4f49732b"
      ],
      "metadata": {
        "id": "8d4tzHhGoxLk"
      },
      "execution_count": 28,
      "outputs": []
    },
    {
      "cell_type": "code",
      "source": [
        "X = dados_final.drop('churn', axis = 1)\n",
        "y = dados_final['churn']"
      ],
      "metadata": {
        "id": "B8P8wTilqavE"
      },
      "execution_count": 29,
      "outputs": []
    },
    {
      "cell_type": "code",
      "source": [
        "SEED = 123\n",
        "smt = SMOTE(random_state= SEED)\n",
        "X, y = smt.fit_resample(X, y)"
      ],
      "metadata": {
        "id": "pWYMM-BDp1Ns"
      },
      "execution_count": 30,
      "outputs": []
    },
    {
      "cell_type": "code",
      "source": [
        "#junção dos dados balanceados\n",
        "dados_final = pd.concat([X, y], axis=1)"
      ],
      "metadata": {
        "id": "tkHAWHHZqVeE"
      },
      "execution_count": 31,
      "outputs": []
    },
    {
      "cell_type": "code",
      "source": [
        "#Gerando mais dados\n",
        "ax = sns.countplot(x= 'churn', hue = 'churn', data = dados_final)"
      ],
      "metadata": {
        "colab": {
          "base_uri": "https://localhost:8080/",
          "height": 449
        },
        "id": "7kO8VOTvrAFk",
        "outputId": "835e8ff6-104e-4995-ff0b-822c367313cb"
      },
      "execution_count": 32,
      "outputs": [
        {
          "output_type": "display_data",
          "data": {
            "text/plain": [
              "<Figure size 640x480 with 1 Axes>"
            ],
            "image/png": "[encoded data removed]"
          },
          "metadata": {}
        }
      ]
    },
    {
      "cell_type": "markdown",
      "source": [
        "# 2 Support Vector Machine (SVC)"
      ],
      "metadata": {
        "id": "Iy78f3ROrvkV"
      }
    },
    {
      "cell_type": "code",
      "source": [
        "#importando Bibliotecas\n",
        "from sklearn.svm import SVC\n",
        "from sklearn.model_selection import train_test_split\n",
        "from sklearn.metrics import accuracy_score\n",
        "from sklearn.preprocessing import StandardScaler\n",
        "\n",
        "#separação features (X) e classes (Y)\n",
        "\n",
        "X = dados_final.drop('churn', axis = 1)\n",
        "y = dados_final['churn']\n",
        "\n",
        "#Normalizar dados (dados Númericos) - pre-processamento\n",
        "norm = StandardScaler()\n",
        "X_normalizado = norm.fit_transform(X)\n",
        "\n",
        "#Separar dados de treino e teste\n",
        "SEED = 123\n",
        "\n",
        "X_train, X_test, y_train, y_test = train_test_split(X_normalizado, y, test_size = 0.25, random_state = SEED, stratify=y)\n",
        "#Stratify é responsavel para realizar o balanceamento dos dados de treino e teste direcionado a questão da proporção dos dados\n",
        "\n",
        "#Criar(istanciar) o modelo\n",
        "svc = SVC(gamma='auto', random_state=SEED)\n",
        "\n",
        "#Treinar o modelo\n",
        "svc.fit(X_train, y_train)\n",
        "\n",
        "#Testar (Avaliar) o modelo\n",
        "previsoes_svc = svc.predict(X_test)\n",
        "\n",
        "#Utilizar o modelo\n",
        "X_maria_normalizado = norm.transform(Xmaria)\n",
        "print(svc.predict(X_maria_normalizado))"
      ],
      "metadata": {
        "colab": {
          "base_uri": "https://localhost:8080/"
        },
        "id": "mO8rX_8HsnEE",
        "outputId": "9f94de21-891a-41ef-c5b2-062211134b35"
      },
      "execution_count": 37,
      "outputs": [
        {
          "output_type": "stream",
          "name": "stdout",
          "text": [
            "[1]\n"
          ]
        },
        {
          "output_type": "stream",
          "name": "stderr",
          "text": [
            "/usr/local/lib/python3.10/dist-packages/sklearn/base.py:465: UserWarning: X does not have valid feature names, but StandardScaler was fitted with feature names\n",
            "  warnings.warn(\n"
          ]
        }
      ]
    },
    {
      "cell_type": "code",
      "source": [
        "#Utilizar o modelo\n",
        "X_maria_normalizado = norm.transform(Xmaria)\n",
        "print(svc.predict(Xmaria))"
      ],
      "metadata": {
        "colab": {
          "base_uri": "https://localhost:8080/"
        },
        "id": "OA66nFBW54J4",
        "outputId": "5e290a09-aaf9-447a-bc0e-0ee56af4524f"
      },
      "execution_count": 38,
      "outputs": [
        {
          "output_type": "stream",
          "name": "stdout",
          "text": [
            "[1]\n"
          ]
        },
        {
          "output_type": "stream",
          "name": "stderr",
          "text": [
            "/usr/local/lib/python3.10/dist-packages/sklearn/base.py:465: UserWarning: X does not have valid feature names, but StandardScaler was fitted with feature names\n",
            "  warnings.warn(\n"
          ]
        }
      ]
    },
    {
      "cell_type": "markdown",
      "source": [
        "# 3 Modelo K-nearest neighbors (KNN) - método baseado na proximidade\n"
      ],
      "metadata": {
        "id": "_d4jEXubcPuO"
      }
    },
    {
      "cell_type": "code",
      "source": [
        "#importando Bibliotecas\n",
        "from sklearn.neighbors import KNeighborsClassifier\n",
        "from sklearn.model_selection import train_test_split\n",
        "from sklearn.metrics import accuracy_score\n",
        "from sklearn.preprocessing import StandardScaler\n",
        "\n",
        "# k = igual aonúmero de vizinhos\n",
        "\n",
        "#separação features (X) e classes (Y)\n",
        "\n",
        "X = dados_final.drop('churn', axis = 1)\n",
        "y = dados_final['churn']\n",
        "\n",
        "#Normalizar dados (dados Númericos) - pre-processamento\n",
        "norm = StandardScaler()\n",
        "X_normalizado = norm.fit_transform(X)\n",
        "\n",
        "#Separar dados de treino e teste\n",
        "SEED = 123\n",
        "\n",
        "X_train, X_test, y_train, y_test = train_test_split(X_normalizado, y, test_size = 0.25, random_state = SEED, stratify=y)\n",
        "#Stratify é responsavel para realizar o balanceamento dos dados de treino e teste direcionado a questão da proporção dos dados\n",
        "\n",
        "#Criar(istanciar) o modelo\n",
        "knn = KNeighborsClassifier(metric='euclidean') # k = 5 por padrão\n",
        "\n",
        "#Treinar o modelo\n",
        "knn.fit(X_train, y_train)\n",
        "\n",
        "#Testar (Avaliar) o modelo\n",
        "previsoes_knn = knn.predict(X_test)\n",
        "\n",
        "#Utilizar o modelo\n",
        "X_maria_normalizado = norm.transform(Xmaria)\n",
        "print(knn.predict(X_maria_normalizado))"
      ],
      "metadata": {
        "colab": {
          "base_uri": "https://localhost:8080/"
        },
        "id": "mIMP1Nm26PZQ",
        "outputId": "824a4d9a-5818-4eda-b654-7a9530f988a1"
      },
      "execution_count": 39,
      "outputs": [
        {
          "output_type": "stream",
          "name": "stdout",
          "text": [
            "[0]\n"
          ]
        },
        {
          "output_type": "stream",
          "name": "stderr",
          "text": [
            "/usr/local/lib/python3.10/dist-packages/sklearn/base.py:465: UserWarning: X does not have valid feature names, but StandardScaler was fitted with feature names\n",
            "  warnings.warn(\n"
          ]
        }
      ]
    },
    {
      "cell_type": "markdown",
      "source": [
        "## 3.2 - KNN por trás dos panos"
      ],
      "metadata": {
        "id": "MvIfmyE2ckVV"
      }
    },
    {
      "cell_type": "markdown",
      "source": [
        "Distância Euclidiana:\n",
        "\n",
        "$$\\sqrt{\\sum_{i=1}^k(a_{i}-b_{i})^2}$$"
      ],
      "metadata": {
        "id": "pgU6OxezlB_F"
      }
    },
    {
      "cell_type": "markdown",
      "source": [
        "Tem um somatório externo que vai da primeira até a quantidade de colunas n"
      ],
      "metadata": {
        "id": "XG3B1_btBBAB"
      }
    },
    {
      "cell_type": "markdown",
      "source": [
        "$P(xi|y)$ = P(i|y)xi + (1 - P(i|y))(1 - xi)"
      ],
      "metadata": {
        "id": "REOoah34xfBV"
      }
    },
    {
      "cell_type": "code",
      "source": [
        "# i  =  o número de classes"
      ],
      "metadata": {
        "id": "CnT4q17BxfBV"
      },
      "execution_count": null,
      "outputs": []
    },
    {
      "cell_type": "markdown",
      "source": [
        "# 4 Método probabilístico"
      ],
      "metadata": {
        "id": "EKHFh1Pr7G40"
      }
    },
    {
      "cell_type": "code",
      "source": [
        "#importando Bibliotecas\n",
        "from sklearn.naive_bayes import MultinomialNB\n",
        "from sklearn.model_selection import train_test_split\n",
        "from sklearn.metrics import accuracy_score\n",
        "from sklearn.preprocessing import StandardScaler\n",
        "\n",
        "#Não é sensível a escalas\n",
        "\n",
        "#separação features (X) e classes (Y)\n",
        "\n",
        "X = dados_final.drop('churn', axis = 1)\n",
        "y = dados_final['churn']\n",
        "\n",
        "################################################################################\n",
        "#Não utiliza os dados normalizados, pois utiliza probabilidade\n",
        "\n",
        "#Normalizar dados (dados Númericos) - pre-processamento\n",
        "#norm = StandardScaler()\n",
        "#X_normalizado = norm.fit_transform(X)\n",
        "\n",
        "################################################################################\n",
        "\n",
        "#Separar dados de treino e teste\n",
        "SEED = 123\n",
        "\n",
        "X_train, X_test, y_train, y_test = train_test_split(X, y, test_size = 0.25, random_state = SEED, stratify=y)\n",
        "#Stratify é responsavel para realizar o balanceamento dos dados de treino e teste direcionado a questão da proporção dos dados\n",
        "\n",
        "#Criar(istanciar) o modelo\n",
        "mnb = MultinomialNB()\n",
        "\n",
        "#Treinar o modelo\n",
        "mnb.fit(X_train, y_train)\n",
        "\n",
        "#Testar (Avaliar) o modelo\n",
        "previsoes_mnb = mnb.predict(X_test)\n",
        "\n",
        "#Utilizar o modelo\n",
        "X_maria_normalizado = norm.transform(Xmaria)\n",
        "print(mnb.predict(X_maria_normalizado))"
      ],
      "metadata": {
        "colab": {
          "base_uri": "https://localhost:8080/"
        },
        "outputId": "2735bf7f-f4bd-45e1-ede5-041bb8da4fab",
        "id": "blkMk9l1yL0h"
      },
      "execution_count": 44,
      "outputs": [
        {
          "output_type": "stream",
          "name": "stdout",
          "text": [
            "[0]\n"
          ]
        },
        {
          "output_type": "stream",
          "name": "stderr",
          "text": [
            "/usr/local/lib/python3.10/dist-packages/sklearn/base.py:465: UserWarning: X does not have valid feature names, but StandardScaler was fitted with feature names\n",
            "  warnings.warn(\n",
            "/usr/local/lib/python3.10/dist-packages/sklearn/base.py:465: UserWarning: X does not have valid feature names, but MultinomialNB was fitted with feature names\n",
            "  warnings.warn(\n"
          ]
        }
      ]
    },
    {
      "cell_type": "markdown",
      "source": [
        "## 4.1 - Teorema de Naive Bayes\n",
        "\n"
      ],
      "metadata": {
        "id": "gtpfY2-vyL0V"
      }
    },
    {
      "cell_type": "markdown",
      "source": [
        "$P(y|X)$ = ${P(X|y) + P(y) \\over P(X)}$"
      ],
      "metadata": {
        "id": "BdESU9kOyL0h"
      }
    },
    {
      "cell_type": "markdown",
      "source": [
        "A diferença dos modelos está relacionados a utilização sendo os dados númericos utilizado o multinomial para outras situações utiliza o outro modelo"
      ],
      "metadata": {
        "id": "WC2X9tl4xfBW"
      }
    },
    {
      "cell_type": "markdown",
      "source": [
        "## 4.1 - Teorema de Naive Bayes\n",
        "\n"
      ],
      "metadata": {
        "id": "b_EAQ1nf7VUu"
      }
    },
    {
      "cell_type": "markdown",
      "source": [
        "$P(y|X)$ = ${P(X|y) + P(y) \\over P(X)}$"
      ],
      "metadata": {
        "id": "9J0NENb2atL9"
      }
    },
    {
      "cell_type": "code",
      "source": [
        "#importando Bibliotecas\n",
        "from sklearn.naive_bayes import MultinomialNB\n",
        "from sklearn.model_selection import train_test_split\n",
        "from sklearn.metrics import accuracy_score\n",
        "from sklearn.preprocessing import StandardScaler\n",
        "\n",
        "#Não é sensível a escalas\n",
        "\n",
        "#separação features (X) e classes (Y)\n",
        "\n",
        "X = dados_final.drop('churn', axis = 1)\n",
        "y = dados_final['churn']\n",
        "\n",
        "################################################################################\n",
        "#Não utiliza os dados normalizados, pois utiliza probabilidade\n",
        "\n",
        "#Normalizar dados (dados Númericos) - pre-processamento\n",
        "#norm = StandardScaler()\n",
        "#X_normalizado = norm.fit_transform(X)\n",
        "\n",
        "################################################################################\n",
        "\n",
        "#Separar dados de treino e teste\n",
        "SEED = 123\n",
        "\n",
        "X_train, X_test, y_train, y_test = train_test_split(X, y, test_size = 0.25, random_state = SEED, stratify=y)\n",
        "#Stratify é responsavel para realizar o balanceamento dos dados de treino e teste direcionado a questão da proporção dos dados\n",
        "\n",
        "#Criar(istanciar) o modelo\n",
        "mnb = MultinomialNB()\n",
        "\n",
        "#Treinar o modelo\n",
        "mnb.fit(X_train, y_train)\n",
        "\n",
        "#Testar (Avaliar) o modelo\n",
        "previsoes_mnb = mnb.predict(X_test)\n",
        "\n",
        "#Utilizar o modelo\n",
        "X_maria_normalizado = norm.transform(Xmaria)\n",
        "print(mnb.predict(X_maria_normalizado))"
      ],
      "metadata": {
        "id": "Rr1MDt8XV4ls",
        "colab": {
          "base_uri": "https://localhost:8080/"
        },
        "outputId": "39c856b9-9e46-4a7f-bd20-d0fd1123cc8b"
      },
      "execution_count": 45,
      "outputs": [
        {
          "output_type": "stream",
          "name": "stdout",
          "text": [
            "[0]\n"
          ]
        },
        {
          "output_type": "stream",
          "name": "stderr",
          "text": [
            "/usr/local/lib/python3.10/dist-packages/sklearn/base.py:465: UserWarning: X does not have valid feature names, but StandardScaler was fitted with feature names\n",
            "  warnings.warn(\n",
            "/usr/local/lib/python3.10/dist-packages/sklearn/base.py:465: UserWarning: X does not have valid feature names, but MultinomialNB was fitted with feature names\n",
            "  warnings.warn(\n"
          ]
        }
      ]
    },
    {
      "cell_type": "markdown",
      "source": [
        "## 4.2 - Modelo Bernoulli Naive Bayes\n",
        "\n"
      ],
      "metadata": {
        "id": "k-Aa41OexfBQ"
      }
    },
    {
      "cell_type": "markdown",
      "source": [
        "$P(xi|y)$ = P(i|y)xi + (1 - P(i|y))(1 - xi)"
      ],
      "metadata": {
        "id": "O1VK_lH5UYHr"
      }
    },
    {
      "cell_type": "code",
      "source": [
        "# i  =  o número de classes"
      ],
      "metadata": {
        "id": "Hz3Z1J66V4Lu"
      },
      "execution_count": null,
      "outputs": []
    },
    {
      "cell_type": "markdown",
      "source": [
        "A diferença dos modelos está relacionados a utilização sendo os dados númericos utilizado o multinomial para outras situações utiliza o outro modelo"
      ],
      "metadata": {
        "id": "bI05XqTvfXik"
      }
    },
    {
      "cell_type": "markdown",
      "source": [
        "# 5 Método Simbólico"
      ],
      "metadata": {
        "id": "I0QZ6_rY00NG"
      }
    },
    {
      "cell_type": "markdown",
      "source": [
        "## 5.1 - Por trás da árvore de decisão"
      ],
      "metadata": {
        "id": "6x5PyK49ivCL"
      }
    },
    {
      "cell_type": "markdown",
      "source": [
        "Critério de divisão dos nós\n",
        "\n",
        "Para conseguir identificar qual o melhor momento em que um nó deve ser dividido em dois ou mais subnós, o algoritmo da árvore de decisão considera alguns critérios. Os dois principais critérios de divisão usados nas árvores de decisão são:\n",
        "\n",
        "**Índice Gini**\n",
        "\n",
        "Este índice informa o grau de heterogeneidade dos dados. O objetivo dele é medir a frequência de um elemento aleatório de um nó ser rotulado de maneira incorreta. Em outros termos, esse índice é capaz de medir a impureza de um nó e ele é determinado por meio do seguinte cálculo:\n",
        "\n",
        "\n",
        "![image.png](data:image/png;base64,iVBORw0KGgoAAAANSUhEUgAAAdEAAACZCAIAAAD/3Zd5AAAei0lEQVR4Ae2d7U9U2R3Hzz8wb3hhMi82kzQhG2IIMWQzRkNWs0RJMD4kUt20smrYkrAUQnTXykpssesCrayV7oYaYnVxKqF1UxrqA8Uu2BGCQFlKMxIMgnUVBJwAjrNDhrm32z3pb0/m4XLvzJ07lztfXuiZ+3DO73zOOd977u88XCbjDwRAAARAwCgCzKiEkA4IgAAIgIAMzUUlAAEQAAHjCEBzjWONlEAABEAAmos6AAIgAALGEYDmGscaKYEACIAANBd1AARAAASMIwDNNY41UgIBEAABaC7qAAiAAAgYRwCaaxxrpAQCYQRWvvsLO4if1iYAzbV2+SJ3ZiTw8uXLsbGx+vr67Ozsc+fOSZJkRithU3IIQHOTwxWxgkA0Aj6f7+LFi7W1tW+88QZjzGazdXZ2RrsQxyxLAJpr2aJFxsxM4OrVq4yxrKyssbExM9sJ23QnAM3VHSkiBIG1CTQ3NzPGdu/e/fz587WvxhUWIgDNtVBhIivrhMDKykpVVRVjrKKiIhAIrBOrYaY+BKC5+nBELCCgnsDi4uL+/fsZYy0tLervwpXWIADNtUY5IhfricD09PSWLVvsdntvb+96shu26kEAmqsHRcQBAloIDA0N2e12p9P56NEjLffhWisQgOZaoRSRh/VFoKOjgzF24MCBpaUlbrkkSV999dWRI0cyMjI2bdo0ODi4vnIEa9UTgOaqZ4UrQUAfAo2NjYyx06dPr6ysyLIcDAYvX76ckZHBvvsrKCh48uSJPikhFvMRgOaar0xgkaUJ0KSFq1evcsFtaGjYuHHjhQsXZmZmQqHQ8vJyKBSyNIO0zhw0N62LH5k3noDX6y0sLLTb7QMDA5IkuVyu3bt3j4yMGG8JUkwJAWhuSrAj0fQl8PDhw9zc3DfffPPx48ddXV2HDh36z3/+k7440i/n0Nz0K3PkOKUEent7GWPvvPPO/fv3nU5nc3NzSs1B4kYTgOYaTRzppTkBvur33XffLSgoYIz9+Mc/Xl5eTnMmaZV9aG5aFTcym2ICNICWk5Pz6aefZmVlZWZmjo6OptgsJG8gAWiugbCRVNoTmJuby8/PZ4w1NTUtLy+XlpYyxhobG9MeTBoBgOamUWEjqyknQCvQJiYmZFm+fv06Y6ywsNDr9abcNhhgDAForjGckQoI/I/AlStXGGOlpaV+v1+WZb7xAmPs1q1bAJQmBKC5aVLQyGbqCZAzl77Hs7q6WlNTg5G01JeNgRZAcw2EjaTSm8D8/Dyfq9DR0UEkBgYG7HY7Y6yjoyMQCPzhD39wuVx0FgHrEYDmWq9MkSOTEuDOXIfDIa46CwQCFRUVjLGMjIzc3NyWlhbsYm7S8tPJLGiuTiARDQisRaC9vb2goODcuXMLCwvitePj49u2bausrJyamhKPI2xJAtBcSxYrMgUCIGBSAtBckxYMzAIBELAkAWiuJYsVmQIBEDApAWiuSQsGZoEACFiSADTXksWKTIEACJiUADTXpAUDs0AABCxJAJpryWJFpkAABExKAJpr0oKBWSAAApYkAM21ZLEiUyAAAiYlAM01acHALBAAAUsSgOZasliRKRAAAZMSgOaatGBgFgiAgCUJQHMtWazIFAiAgEkJQHNNWjAwy+QEenp6HA4HS/XfyZMnV1dXTc4K5okEoLkiDYRBQC0BSZLOnz+fasn9/jM/au3GdakmAM1NdQkg/XVLwOfzlZWVKcju5s2bd2j/y8/PV9+Dpk+rrVuKaWc4NDftihwZ1pGAx+NxOp2xZLe8vJx/azKOFFdWVp48eeJyuXbt2hUrfsZYSUnJq1ev4ogft6SKADQ3VeSRrkUI3L5922azRZVFm83mcrkkSUokq5IkTU5OlpeXR01l586dYV+dSCQt3GsAAWiuAZCRhJUJBIPBurq6qJrLGMvKyhodHU08/6FQqLOz8/XXXw9LCJqbOFuDY4DmGgwcyVmQgNfrLSoqClND+rlnz57Z2Vldsj00NBTmyoDm6gLWyEiguUbSRlqWJaDs2D1z5kwwGEw885IkuVwu0cmQk5MzPj6eeMyIwTAC0FzDUCMhKxOIVEPq5zLGbDbbtWvXdMm/3+8vLy+nyKG5ulA1MhJorpG0kZaVCQSDwerqalLDsIDT6fR4PLrkf3R0NCsri8cPzdUFqZGRQHONpI20LE5gdnZ2z549YWpLP4uLi5eWlhJHEAgEKioqeLQ2m62/vz/xONd1DJIkffXVVxUVFZs2beJYNm/efOrUqampKRPmC5prwkKBSeuYgNvtVljRUFdXp4tjt7u7m7y6brd7HfNK2HS/33/mzBmiQU847tJpaGjQBXjCZn4fATT3exYIgUDiBJQduw6Ho6enJ/FU5ufnCwoKuL6kuea2tbUxxl5//fWamprOzs7u7u76+vrs7GwS35aWlsSB6xgDNFdHmIgKBP5HQHlN8NatWxN/511dXa2pqeGy0tHRkc7ca2trc3Jy+vr6RAgvXrx49913OZ/t27fPzMyIZ1Mbhuamlj9StyaBr7/+evv27dTVCguUlZX5fL4Ec97V1cWjvXr1aoJRrd/bv/nmm7KyslOnTgUCgbBcPHr0iM9l3rBhw/3798POpvAnNDeF8JG0lQkob/bY2tqa4Jrg8fHxnJwcxlg6a+7y8vLRo0dv3boVWZNWVlaqqqr4Y8lUrwLQ3MjCwhEQ0IHA6upqQ0NDWA+XfjocjgT9sIuLi/v372eMNTc362BuEqLo6+tramrSNITV29vb3Nys/pZQKOT1eldWVqKaX1tbyxiz2+1RRTnqLQYc1F9z/X6/2+2ur6/fu3cvTd3gTu7CwsIPP/ywo6NjZmZG5UN+eHj4rbfe2rVr18TERLJx+P3+s2fPvvbaa5999pn6Uk+2VYh//RLw+XzkVSS1pUCCa4JXV1dPnjzJGKutrTUbIkmSbty44XA4lL0oYS2Ohh/Pnj0b6SvQmkfiY7YpzLppriRJU1NTJ06cyMjIoFqlEHA6nfX19Y8fP1ZAKTrFGhsbFa5M/JQkSRcvXuQGb9myZXp6OvE40ySGYDDodrurq6u9Xm+aZFl9NpXXBFdXV6fk6d7b26vQNsNO2Wy2t956q7a21uPxqOkqkeAqP1SitjjaMOjnP/953Ntg8tLxer379u1jjH3wwQcJRqW+uNVcqY/mzs3NnThxgk+Ry8jIKCoqunDhQnd395f///viiy8+/PDDN998M6w4lV1RHR0ddH2yNZfe1Bhj0Fw1VUeW5efPnzc1NfF5OdhsJRa0ZG/2GCtdhePfLiBeWFiYnZ3t7u4uLCykVrZ58+aDBw9+9NFHdd/9HT58OGwns+PHj7948UIhZlmWuSN7zXV3sVoczfpIcC4zx56Tk6PLvm7KWdZ0NlHNlSTp3r17b7zxBmMsLy+vs7NT+ZHi9XovXbrECzIzM1MZB2muXhviKaARa0Cqeh8K5pnqVCgUGhsbq6ysFN9poLmxyoj6biRtYmBNbYoVrV7Hr169yu2JuqQtFAr94x//2LFjB9msvBE779er2V9CocVNTEw4nc5Edh+em5vbt2+fw+G4fv26mr65XjDVxJOQ5gaDwcuXL2dkZNhstl/96lfqp7/4fL7y8vL8/Py5uTkFK/1+/29+85uDBw/29/cbAG5kZOTQoUP19fXLy8sKVqXzqaWlJZfLlZeXx1ugw+H4wQ9+wMPQXIWKwSWAZCssUFRUlEK3DB9oYozl5uY+fPgwai7ENc02m627uzvqZbSnpcovBim0OP4kcDgcg4ODUdNSOMgfcjabTesInkKcOp6KX3ODwWBTU5PNZovvYVJbW6uyYHTMLaJKhMBf//pX6tjm5eW1t7f7/X5qsdBcZbYej4dP7QoTXP4zwfdo5aQVzvr9/tLSUm7D/v37FxcXY10sekiifmyYPsqpy1spybfWBxIfiNuwYcNHH32kvhcYK9fJOB6n5tIIY9z9/9rv/pKRJcSZJAJdXV02m+3IkSNjY2OhUIinAs1VSZuaTFTNtdvtd+7cURmVjpctLCzs3LmTm1RVVRVr0pUsy0+fPt22bZuCOtNuZ3q55q5fv86Tu3jxovrX3J6enszMzFOnTplTcGVZjlNzaSMPZeeOQuWora017bxCBbPT+dSLFy+eP38eRgCaGwZE4WcgEDh27FhUzWWMOZ1OAyZEhplHCyvWnOf76tWrkpISbnzkOw1lzW63DwwMhKUS30+aeKB+tTT/jkZ1dbVpBTdOzSXnVCIT316+fKk82hZfOeEugwlAczUBFx2jkeKrPJtVU0IqL3a73WRGV1eXwl2iF6KwsDDMAT0wMGC32xljyg4KhfgjT0mSdO7cOW7e+fPn1+zq8uG7n/3sZyYfj9HczxVn1dXU1KyurkbCMuyI3++/ffv2X/7yl1iTHIPB4Pj4+O9///u+vj56HTbMvHRICJqrtZTpHZHETgxoeo/WmnTk9TRpYc1JRGI/t6ys7JtvvqHYxA139J3TOTQ0xKU8Pz//2bNnlGJkgAuumqlskfcafESz5j579iw/P5+vqNPrJSJqnqempiorK1977bX29vbIC0Kh0N/+9jc+Ry3qeGsgEOjs7OQXKI/JyrIcCAT+9Kc/5eXlHThwQHkqRaQlaX4Emqu1AkiS1NraKuqsGNZrs0eVVlHxrTmJaG5ujjf8SC8EuXptNpvKBc0qW5y4ZaVCN3x8fHzr1q0//elP10Xj1ay55NjW8SUirH74fL7GxkYaIj979mzYBTMzM0ePHqWaGqm5k5OTfAkKXZOdnf3gwYOweGRZliRpeHh4165d/MrIqCJvwRGRADXaSB+feBnCIgGa9k/1kwJGTtcV3QUlJSWvXr0SjQwLU5fTbrcPDQ2JZ2mHs23btj19+lQ8FRnW1OLEfWqiTpaQZXliYmLHjh0bN25sa2v7/xqs7/9vaWnh6zu+/PLLSGNSckSb5oqFdObMmTU9LHFkaWRkhBSQV0RxT6BQKNTZ2blly5ZPP/2UvsQnqr8kSTdv3ty4cePbb7/9xz/+kaQ5qpj6/X5R3PX1RsWR9/V4CzQ3vlKbmpraunUrSS0PGNzJFSctnD59WqE5i67ViooKcTMESZLOnDnD7V9TuONocc3NzTzygoKC+fn5MNrT09PiOrownuJPfZ0eYWZo+qlNc6enp7ds2cJzIkqhpiRjXRwIBC5durR3797BwcHHjx/zifdi/3RlZeXjjz/+4IMP+BsEuf/pARgMBltaWgoKCoaHh3kFonXloi5zAyYnJ4uKihobGxcXFz/77DOeKeWaF8tyXY6LI8hiXdEaVl5OrYupYiTQXJGGpnDkZo9qRoo0JaF8sVjllKsNTS6OXKSwvLx86NAhNc0nvhZHTTiqx5mq35rNZL1qLuU/8v1CuXTVnB0ZGWlubuaPUHoCh2nls2fPaCiMjGlra5NlmQvuT37yE3E9OA0RkC5zS1ZWVhobG8nbQJfp/iBRk3F+jdgA1qxAChcoNx719qi8kio9fAsqidFlYZs9pnbSgoIfljwhUSfji/0whdmfcbe40dHRzMxMXuFT2Dyp1BIPaOvnXrlyhWc+kVliaowmAVLwYHCh5E8/PuG8rKwsbJrI2bNnucFcl2MlzYUj2ZmKlTo/PjMz88knn3DfUyL/GvwVWGiucrEqnCUtY4wpb8GlEEkip6irEdXzxmN+8eJFWVmZwvccRU1U/7xX3+JICiLH7hLJewrv1aa5hjUw8sorDFZyY7iXp6en58CBA7OzsyJKmt0S9a2ErqSXo0OHDoVJNl2DQCwChlWJWAas0+Pixje6LJaNgwOVHZ9vOzo6+vnnnz99+pS/Snq9XpfLxWf+ZGRkXL58OeqMTHLxMcZ6e3vVmKGpxYnzJUy4U7Ca/IZdo0Fz+aeHeLcxqS+S5JVXePySnlZVVY2Nje3Zs8fj8YTljd56onrf6WJ6kEZOkKBrEIhFgNptUqtErNTX6XFxHXDUF3YD8iWOh/NVvx6Ph3Yv4s2cMZaRkXHixAmFfa5p8z/GmIKDQsyRphZHbkbGWJiHUIxzHYU1aK5YSEltYLTmT6HjSU+/hoaG995779q1a5HQ3W4339JXeSE5zX5T6FNHRo4jnIAxmit2pkgONAWSWmO1VgYakmKMpWp3G1HLaHwpFApNT0+7XK66urqWlpb79++vuYiWHBTqNVdTixPttMauWMnVXD697ttPP+Xn5++I+Nu+fXtGRkakD4hmAlJViKzT5EU6cOBArD0fGhsbebO8cuVKZAz8CE0AxD7lsRApH4fmKvOJPCsu/zV+3Izsoc4mYyyRsSmtmqu1xaW15hIsxpjK4SZJkhYXF2dnZ91ud3d3d11dHW07b7PZjh8/3t/fH/kgpRl5Cu4heqOJ5QujXrnyFAtaQrPm1EKqrAiIBIzR3Pn5+e+nuccV6u/vF2eVilkwMiyOmxm5/CEyj/TqoDzaEXlj2JG2tjZ64VDjW9Da4kTNVX5hDTPMtD819HNlWaYGFnVL+TUz+e2c2dOnT/MSiqVxpJUKHU9y+DLGYu35QEWrvDaG/A8Kfeo185XOF1CVMNXLuzlLRBw3M3j5QyQQ6p8qN5DIG8OOkHar9C1obXGi5qbdGJosy+IzLdInEFYYkT/pS5wKHyulgS8F3w2NeypsHEdFG7YfR5hV3P+gfp142O06/sRcMR1hmjCqZIyb8ffIhYUFr9dL89ZV5p0elgqjJmqiIk8gY0yNJmhtcaIPxBodI239XJFv2BJANcVDWskYi+VjpVliCvOrSZfDVkyINpCDQiEesifBR72YbtxhsW7Ry1ocATX1Pm4jI2+kpot+biQc8Yi46uzYsWO6ODrok2Ja4dPbJGMswbWXDx8+zM3N5RU1VqMmDnG0uAcPHvCPnDLGlGfZUyomD2jTXJpRwBjLysr697//rSl79L7/7bd1o04SIKeBsu+CVqDFeu7RtDblDizJnHJfWFMe476YjIlDZ8VboLlxF0HybhS/uK7j8gdqUAovhVEzJb6wrymUUWOgg6T7Ci+vdDFVcvUtjnwXyppASZg/oE1zZVluaWmhFq71Ixw02SAWPio/5Y4nTUiINchGdVHBKSzLMg3EKfSFzV+EqbUQ/dw1+YsTFfQdN6P3Tq2aS9qnfiFDrGyKDsM1lTSOFkf+TOW2HMs8Ex7XrLnPnz/fvXs3l12t07nJbxBr2gOJMo2whUKhv//97//617+IHa2GUFgx0d/fz2fmivHcuHFD3M9NrCuk3XNzc+3t7bq895HB1g5Ac5XLNxgMVldXU3u5ffu28vWazpIeadVcelOM1RI1mUFKquziiK/FUQXTmkdNWTDyYs2aK8uy6JlyOBw3btxQ2AVOzAz5WGOVDRVeSUmJz+fzeDyHDx+urq4Wl+SqcebSvhA8nsnJych4qE/NH/U+n+/SpUv5+fn37t1TmR0xa2kbpiYRq0zTlgzfndnlcvHHv+7LH0QJ0+qTXbMlaio16jUrTzuLo8WR/5cx1tLSoskq014cj+ZKknTt2jXaU9xms9XV1S0sLChn0uv10jfsYg2VktMgIyMjNzc3Jyenq6srbECWOssKCwFJCGw2W25u7saNGzs7O8PiIe1mjGVnZzscjuPHj6+LfeaVORt5dnFx8Uc/+hHvxGVmZv7zn/80MnXzpyX2TnRf/iB+Q0HTJCqfz3f48GFearo8KcUROYXlFXG0OLoljtEj01aPeDSXP8Dv3LlDX77h67Lfe++927dvz87O0l4YoVDI6/UODAxUVlaKGv3xxx9H/aozbQPGGIuqgDTIprzJEGkuY6ysrCyqkorjrVHF3bRllkLDgsHg0NAQX5TQ3Nwctrt8dnZ2fX19d3f3l19+2dfXl+bfGE3SuBmVPn32Uc3glSzLfr//yZMnd+/e/eUvf0ldb4fD0dzcfPfu3SdPniwsLERtlZSiQoCW8yr0hOJocdTBimOWlIK1qT0Vp+Zyo5eWlhobGx0OB39mKv9rs9kKCgp+97vfRX6vmxAMDg46nc6ioqLBwcGwbim/xufzlZeXnzx58ubNmwo967t37+bm5h45cmR4eDhqPLwK1tTUZGVlnT9/fmlpiWxAQIGAON69adOmiOXcO/Ly8nh71sVRqGCJyU+J42bJWP4gfvaRMRZrAo9ISezQRG2qsUa2xUhihekziQqj336/X1OLI+eJzWbr7u6OlfS6O56Q5vLcrqysDAwM/PrXvz548ODmzZupOPk2C++//77L5fJ4PHE/QtcdUxic5gTEBb5ax5lVonv06JHT6aS2ZvAEwahG0oym69evR71A60HKY3FxsZV6RTporlaUuB4ELExAXOCr+7gZ5xYMBukTZFx2zaC5NKPp8OHDkZuoxFHiXMTtdvudO3fiuN20t0BzTVs0MGz9ERAX+DLGioqKvF6vvtmQJKmzs9Nut1MnV+WiW33NiBrbn//8Z5vNZrfbafJl1MvUHCQF17oIQE3kqb0Gmpta/kjdUgQGBwdpeEPf5Q8cUygUam9vpyRIdtVs6GUA6EAgcOzYMcZYgt4ASZIuXrz47STO7du3f/311wZYbmQS0FwjaSMtKxNI6rhZMBh0u91vv/026awYMInmyrLMIdhstqifEVBZ/BMTE06nMxljjyoNSOpl0Nyk4kXk6UJAHDdjjLW2tia4siYYDHq9Xo/H88UXX7z//vu08bQotRQ2j+bKsswnyTmdzomJiTiKn5NM0thjHPbofgs0V3ekiDDtCISNm5EUGhPIzs5+8OCBqaD39fXl5OTEsQyEO8Q3bNjQ0NBA0/xNlbXEjYHmJs4QMaQ1gbBxM2N0VkzFnFOhuexq/dpbT09PZmamhQVXlmVoblrrBTKfOAFxga8ohYaFzam5siwPDQ198skn6pcjSpJ08+bNzz//3Ko9XF7ZoLmJNzrEkL4ExAW+holsWEKW2eQwTaoRNDdNChrZ1J+AOFEhTAeN/KnLPjX600GMMQhAc2OAwWEQUCTg9/vLy8uN1NZYaUFzFQvKdCehuaYrEhhkfgKhUKi1tZV254qlhsYch+aav8KIFkJzRRoIgwAIgEByCUBzk8sXsYMACICASACaK9JAGARAAASSSwCam1y+iB0EQAAERALQXJEGwiAAAiCQXALQ3OTyRewgAAIgIBKA5oo0EAYBEACB5BKA5iaXL2IHARAAAZEANFekgTAIgAAIJJcANDe5fBE7CIAACIgEoLkiDYRBAARAILkEoLnJ5YvYQQAEQEAkAM0VaSAMAiAAAsklAM1NLl/EnlYEJiYmdu3a9cMf/nBubk7fjEuSNDU1VVtb+9vf/lbfmBGbwQSguQYDR3KWJbC6ulpTU8MYczgcIyMjeuWTf2W9uLiYbx3Z2NioV8yIJyUEoLkpwY5ELUhgZWWlqqqKMfbOO+8sLCwknsOlpSWXy5WXl8cYs9vtfDdeaG7iYFMbAzQ3tfyRuqUI+Hy+/v5+XQR3cnLS6XTabLbi4mK3293T0wPNtUZdgeZaoxyRC6sR8Hq9Fy5c8Hg8kiTJsux2u6G51ihjaK41yhG5sDgBaK5lChiaa5miREasTACaa5nSheZapiiRkVQSCAQCnZ2deXl5R48e9fl8upsCzdUdaaoihOamijzStQ6Bqamp4uJi7m8tLS31+/265w2aqzvSVEUIzU0VeaRrBQKBQMDlch07duzevXuFhYWMsfPnz/NRL1mWL1y4sEPL3+7du8fGxqJygeZGxbIeD0Jz12OpwWazEFhaWrpz504gEPB6vfv27bPb7bdu3SLjamtreedX5b92u31oaIhuFwPQXJHGug5Dc9d18cF4sxAYGhqy2+1bt26dmppKhk3Q3GRQTUmc0NyUYEeiViPQ3NzMV6C9fPkyGXmD5iaDakrihOamBDsStRQBv99fWloa5szVN4fQXH15pjA2aG4K4SNpixB49OiR0+kMc+bqmzdorr48UxgbNDeF8JG0RQh0dHQwxpLnzMXaX4tUlO+yAc21UmkiLykgsLq6evLkyajOXMxbSEF5mD5JaK7piwgGmpvA/Px8QUFBVGeu1vm5hYWFo6OjUbML30JULOvxIDR3PZYabDYRAT5LzOFwuN1uWZa9Xu/y8rLu9kFzdUeaqgihuakij3QtQqCtrY0xlp2dPTw83NraWlJSMjExoXveoLm6I01VhNDcVJFHuhYhQE5bh8PR1NSUjA1ufD7fL37xC76Ybe/evU+fPrUIu7TMBjQ3LYsdmdaPwLVr1+x2e2VlJe0vrlfcCwsLO3fujLVuWGGhsF4GIJ5kEIDmJoMq4gQBEACB6ASgudG54CgIgAAIJIMANDcZVBEnCIAACEQnAM2NzgVHQQAEQCAZBKC5yaCKOEEABEAgOgFobnQuOAoCIAACySAAzU0GVcQJAiAAAtEJQHOjc8FREAABEEgGAWhuMqgiThAAARCITgCaG50LjoIACIBAMghAc5NBFXGCAAiAQHQC/wUwCwtuOlL5NwAAAABJRU5ErkJggg==)\n",
        "\n",
        "Onde:\n",
        "\n",
        "p(i) representa a frequência relativa das classes em cada um dos nós;\n",
        "k é o número de classes. Se o índice Gini for igual a 0, isso indica que o nó é puro. No entanto, se o valor dele se aproxima mais do valor 1, o nó é impuro.\n",
        "\n",
        "**Entropia***\n",
        "\n",
        "A ideia básica da entropia é medir a desordem dos dados de um nó por meio da variável classificadora. Assim como o índice de Gini, ela é utilizada para caracterizar a impureza dos dados e pode ser calculada por meio da seguinte fórmula:\n",
        "\n",
        "![image.png](data:image/png;base64,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)\n",
        "\n",
        "\n",
        "Onde:\n",
        "\n",
        "pi representa a proporção de dados no conjunto de dados (S), pertencentes à classe específica i; c é o número de classes.\n"
      ],
      "metadata": {
        "id": "jdtLgDk3sAQZ"
      }
    },
    {
      "cell_type": "code",
      "source": [
        "from sklearn.svm import LinearSVC # Importando o modelo LinearSVC\n",
        "from sklearn.tree import DecisionTreeClassifier # Importando o modelo DecisionTreeClassifier\n",
        "import numpy as np\n",
        "from sklearn.model_selection import train_test_split\n",
        "\n",
        "SEED = 123\n",
        "np.random.seed(SEED)\n",
        "\n",
        "# Separando os dados em conjuntos de treinamento e teste\n",
        "#SEPARAR TREINO E TESTE\n",
        "\n",
        "#SEPARAR TREINO E TESTE\n",
        "train_x, test_x, train_y, test_y = train_test_split(X, y, test_size=0.25,random_state=SEED, stratify=y)\n",
        "print(f\"Treinaremos com %d elementos e testaremos com %d elementos\" % (len(train_x), len(test_x)))\n",
        "\n",
        "#model\n",
        "\n",
        "dtc = DecisionTreeClassifier(random_state=SEED, max_depth=3)  # Cria uma instância do modelo de árvore de decisão\n",
        "\n",
        "#Treinar o modelo\n",
        "dtc.fit(X_train, y_train)\n",
        "\n",
        "#Testar (Avaliar) o modelo\n",
        "previsoes_dtc = dtc.predict(X_test)\n",
        "\n",
        "#Utilizar o modelo\n",
        "X_maria_normalizado = norm.transform(Xmaria)\n",
        "print(dtc.predict(X_maria_normalizado))"
      ],
      "metadata": {
        "id": "bW1W6_HcV3fH",
        "colab": {
          "base_uri": "https://localhost:8080/"
        },
        "outputId": "7942189f-2add-4d8e-f91a-440419a7edf4"
      },
      "execution_count": 41,
      "outputs": [
        {
          "output_type": "stream",
          "name": "stdout",
          "text": [
            "Treinaremos com 11944 elementos e testaremos com 3982 elementos\n",
            "[0]\n"
          ]
        },
        {
          "output_type": "stream",
          "name": "stderr",
          "text": [
            "/usr/local/lib/python3.10/dist-packages/sklearn/base.py:465: UserWarning: X does not have valid feature names, but StandardScaler was fitted with feature names\n",
            "  warnings.warn(\n",
            "/usr/local/lib/python3.10/dist-packages/sklearn/base.py:465: UserWarning: X does not have valid feature names, but DecisionTreeClassifier was fitted with feature names\n",
            "  warnings.warn(\n"
          ]
        }
      ]
    },
    {
      "cell_type": "code",
      "source": [
        "from sklearn.tree import DecisionTreeClassifier # Importando o modelo DecisionTreeClassifier\n",
        "import graphviz\n",
        "from sklearn.tree import export_graphviz\n",
        "\n",
        "features = X.columns\n",
        "dot_data = export_graphviz(dtc, out_file=None, feature_names=features, filled=True, rounded=True, class_names= ['não', 'sim'])\n",
        "graph = graphviz.Source(dot_data)\n",
        "graph"
      ],
      "metadata": {
        "colab": {
          "base_uri": "https://localhost:8080/",
          "height": 619
        },
        "id": "eJ4foiBjHMsC",
        "outputId": "16a2772c-4ca4-4c02-8b54-aa3ca0a83004"
      },
      "execution_count": 46,
      "outputs": [
        {
          "output_type": "execute_result",
          "data": {
            "image/svg+xml": "<?xml version=\"1.0\" encoding=\"UTF-8\" standalone=\"no\"?>\n<!DOCTYPE svg PUBLIC \"-//W3C//DTD SVG 1.1//EN\"\n \"http://www.w3.org/Graphics/SVG/1.1/DTD/svg11.dtd\">\n<!-- Generated by graphviz version 2.43.0 (0)\n -->\n<!-- Title: Tree Pages: 1 -->\n<svg width=\"1142pt\" height=\"433pt\"\n viewBox=\"0.00 0.00 1141.50 433.00\" xmlns=\"http://www.w3.org/2000/svg\" xmlns:xlink=\"http://www.w3.org/1999/xlink\">\n<g id=\"graph0\" class=\"graph\" transform=\"scale(1 1) rotate(0) translate(4 429)\">\n<title>Tree</title>\n<polygon fill=\"white\" stroke=\"transparent\" points=\"-4,4 -4,-429 1137.5,-429 1137.5,4 -4,4\"/>\n<!-- 0 -->\n<g id=\"node1\" class=\"node\">\n<title>0</title>\n<path fill=\"#ffffff\" stroke=\"black\" d=\"M604,-425C604,-425 488,-425 488,-425 482,-425 476,-419 476,-413 476,-413 476,-354 476,-354 476,-348 482,-342 488,-342 488,-342 604,-342 604,-342 610,-342 616,-348 616,-354 616,-354 616,-413 616,-413 616,-419 610,-425 604,-425\"/>\n<text text-anchor=\"middle\" x=\"546\" y=\"-409.8\" font-family=\"Helvetica,sans-Serif\" font-size=\"14.00\">idade &lt;= 39.5</text>\n<text text-anchor=\"middle\" x=\"546\" y=\"-394.8\" font-family=\"Helvetica,sans-Serif\" font-size=\"14.00\">gini = 0.5</text>\n<text text-anchor=\"middle\" x=\"546\" y=\"-379.8\" font-family=\"Helvetica,sans-Serif\" font-size=\"14.00\">samples = 11944</text>\n<text text-anchor=\"middle\" x=\"546\" y=\"-364.8\" font-family=\"Helvetica,sans-Serif\" font-size=\"14.00\">value = [5972, 5972]</text>\n<text text-anchor=\"middle\" x=\"546\" y=\"-349.8\" font-family=\"Helvetica,sans-Serif\" font-size=\"14.00\">class = não</text>\n</g>\n<!-- 1 -->\n<g id=\"node2\" class=\"node\">\n<title>1</title>\n<path fill=\"#efb387\" stroke=\"black\" d=\"M523.5,-306C523.5,-306 394.5,-306 394.5,-306 388.5,-306 382.5,-300 382.5,-294 382.5,-294 382.5,-235 382.5,-235 382.5,-229 388.5,-223 394.5,-223 394.5,-223 523.5,-223 523.5,-223 529.5,-223 535.5,-229 535.5,-235 535.5,-235 535.5,-294 535.5,-294 535.5,-300 529.5,-306 523.5,-306\"/>\n<text text-anchor=\"middle\" x=\"459\" y=\"-290.8\" font-family=\"Helvetica,sans-Serif\" font-size=\"14.00\">pais_Alemanha &lt;= 0.5</text>\n<text text-anchor=\"middle\" x=\"459\" y=\"-275.8\" font-family=\"Helvetica,sans-Serif\" font-size=\"14.00\">gini = 0.406</text>\n<text text-anchor=\"middle\" x=\"459\" y=\"-260.8\" font-family=\"Helvetica,sans-Serif\" font-size=\"14.00\">samples = 5636</text>\n<text text-anchor=\"middle\" x=\"459\" y=\"-245.8\" font-family=\"Helvetica,sans-Serif\" font-size=\"14.00\">value = [4039, 1597]</text>\n<text text-anchor=\"middle\" x=\"459\" y=\"-230.8\" font-family=\"Helvetica,sans-Serif\" font-size=\"14.00\">class = não</text>\n</g>\n<!-- 0&#45;&gt;1 -->\n<g id=\"edge1\" class=\"edge\">\n<title>0&#45;&gt;1</title>\n<path fill=\"none\" stroke=\"black\" d=\"M515.82,-341.91C509.14,-332.92 501.99,-323.32 495.1,-314.05\"/>\n<polygon fill=\"black\" stroke=\"black\" points=\"497.91,-311.96 489.13,-306.02 492.29,-316.13 497.91,-311.96\"/>\n<text text-anchor=\"middle\" x=\"485.49\" y=\"-327.05\" font-family=\"Helvetica,sans-Serif\" font-size=\"14.00\">True</text>\n</g>\n<!-- 8 -->\n<g id=\"node9\" class=\"node\">\n<title>8</title>\n<path fill=\"#90c8f0\" stroke=\"black\" d=\"M738,-306C738,-306 616,-306 616,-306 610,-306 604,-300 604,-294 604,-294 604,-235 604,-235 604,-229 610,-223 616,-223 616,-223 738,-223 738,-223 744,-223 750,-229 750,-235 750,-235 750,-294 750,-294 750,-300 744,-306 738,-306\"/>\n<text text-anchor=\"middle\" x=\"677\" y=\"-290.8\" font-family=\"Helvetica,sans-Serif\" font-size=\"14.00\">membro_ativo &lt;= 0.5</text>\n<text text-anchor=\"middle\" x=\"677\" y=\"-275.8\" font-family=\"Helvetica,sans-Serif\" font-size=\"14.00\">gini = 0.425</text>\n<text text-anchor=\"middle\" x=\"677\" y=\"-260.8\" font-family=\"Helvetica,sans-Serif\" font-size=\"14.00\">samples = 6308</text>\n<text text-anchor=\"middle\" x=\"677\" y=\"-245.8\" font-family=\"Helvetica,sans-Serif\" font-size=\"14.00\">value = [1933, 4375]</text>\n<text text-anchor=\"middle\" x=\"677\" y=\"-230.8\" font-family=\"Helvetica,sans-Serif\" font-size=\"14.00\">class = sim</text>\n</g>\n<!-- 0&#45;&gt;8 -->\n<g id=\"edge8\" class=\"edge\">\n<title>0&#45;&gt;8</title>\n<path fill=\"none\" stroke=\"black\" d=\"M591.45,-341.91C601.92,-332.56 613.14,-322.54 623.9,-312.93\"/>\n<polygon fill=\"black\" stroke=\"black\" points=\"626.5,-315.29 631.63,-306.02 621.84,-310.07 626.5,-315.29\"/>\n<text text-anchor=\"middle\" x=\"630.22\" y=\"-327.28\" font-family=\"Helvetica,sans-Serif\" font-size=\"14.00\">False</text>\n</g>\n<!-- 2 -->\n<g id=\"node3\" class=\"node\">\n<title>2</title>\n<path fill=\"#eb9f68\" stroke=\"black\" d=\"M278.5,-187C278.5,-187 153.5,-187 153.5,-187 147.5,-187 141.5,-181 141.5,-175 141.5,-175 141.5,-116 141.5,-116 141.5,-110 147.5,-104 153.5,-104 153.5,-104 278.5,-104 278.5,-104 284.5,-104 290.5,-110 290.5,-116 290.5,-116 290.5,-175 290.5,-175 290.5,-181 284.5,-187 278.5,-187\"/>\n<text text-anchor=\"middle\" x=\"216\" y=\"-171.8\" font-family=\"Helvetica,sans-Serif\" font-size=\"14.00\">sexo_biologico &lt;= 0.5</text>\n<text text-anchor=\"middle\" x=\"216\" y=\"-156.8\" font-family=\"Helvetica,sans-Serif\" font-size=\"14.00\">gini = 0.31</text>\n<text text-anchor=\"middle\" x=\"216\" y=\"-141.8\" font-family=\"Helvetica,sans-Serif\" font-size=\"14.00\">samples = 3966</text>\n<text text-anchor=\"middle\" x=\"216\" y=\"-126.8\" font-family=\"Helvetica,sans-Serif\" font-size=\"14.00\">value = [3207, 759]</text>\n<text text-anchor=\"middle\" x=\"216\" y=\"-111.8\" font-family=\"Helvetica,sans-Serif\" font-size=\"14.00\">class = não</text>\n</g>\n<!-- 1&#45;&gt;2 -->\n<g id=\"edge2\" class=\"edge\">\n<title>1&#45;&gt;2</title>\n<path fill=\"none\" stroke=\"black\" d=\"M382.45,-226.64C356.19,-214 326.67,-199.79 299.86,-186.88\"/>\n<polygon fill=\"black\" stroke=\"black\" points=\"301.03,-183.56 290.51,-182.37 298,-189.86 301.03,-183.56\"/>\n</g>\n<!-- 5 -->\n<g id=\"node6\" class=\"node\">\n<title>5</title>\n<path fill=\"#fefeff\" stroke=\"black\" d=\"M514,-187C514,-187 404,-187 404,-187 398,-187 392,-181 392,-175 392,-175 392,-116 392,-116 392,-110 398,-104 404,-104 404,-104 514,-104 514,-104 520,-104 526,-110 526,-116 526,-116 526,-175 526,-175 526,-181 520,-187 514,-187\"/>\n<text text-anchor=\"middle\" x=\"459\" y=\"-171.8\" font-family=\"Helvetica,sans-Serif\" font-size=\"14.00\">pais_França &lt;= 0.5</text>\n<text text-anchor=\"middle\" x=\"459\" y=\"-156.8\" font-family=\"Helvetica,sans-Serif\" font-size=\"14.00\">gini = 0.5</text>\n<text text-anchor=\"middle\" x=\"459\" y=\"-141.8\" font-family=\"Helvetica,sans-Serif\" font-size=\"14.00\">samples = 1670</text>\n<text text-anchor=\"middle\" x=\"459\" y=\"-126.8\" font-family=\"Helvetica,sans-Serif\" font-size=\"14.00\">value = [832, 838]</text>\n<text text-anchor=\"middle\" x=\"459\" y=\"-111.8\" font-family=\"Helvetica,sans-Serif\" font-size=\"14.00\">class = sim</text>\n</g>\n<!-- 1&#45;&gt;5 -->\n<g id=\"edge5\" class=\"edge\">\n<title>1&#45;&gt;5</title>\n<path fill=\"none\" stroke=\"black\" d=\"M459,-222.91C459,-214.65 459,-205.86 459,-197.3\"/>\n<polygon fill=\"black\" stroke=\"black\" points=\"462.5,-197.02 459,-187.02 455.5,-197.02 462.5,-197.02\"/>\n</g>\n<!-- 3 -->\n<g id=\"node4\" class=\"node\">\n<title>3</title>\n<path fill=\"#f0b68d\" stroke=\"black\" d=\"M120,-68C120,-68 12,-68 12,-68 6,-68 0,-62 0,-56 0,-56 0,-12 0,-12 0,-6 6,0 12,0 12,0 120,0 120,0 126,0 132,-6 132,-12 132,-12 132,-56 132,-56 132,-62 126,-68 120,-68\"/>\n<text text-anchor=\"middle\" x=\"66\" y=\"-52.8\" font-family=\"Helvetica,sans-Serif\" font-size=\"14.00\">gini = 0.418</text>\n<text text-anchor=\"middle\" x=\"66\" y=\"-37.8\" font-family=\"Helvetica,sans-Serif\" font-size=\"14.00\">samples = 1927</text>\n<text text-anchor=\"middle\" x=\"66\" y=\"-22.8\" font-family=\"Helvetica,sans-Serif\" font-size=\"14.00\">value = [1353, 574]</text>\n<text text-anchor=\"middle\" x=\"66\" y=\"-7.8\" font-family=\"Helvetica,sans-Serif\" font-size=\"14.00\">class = não</text>\n</g>\n<!-- 2&#45;&gt;3 -->\n<g id=\"edge3\" class=\"edge\">\n<title>2&#45;&gt;3</title>\n<path fill=\"none\" stroke=\"black\" d=\"M160.15,-103.73C147.03,-94.15 133.07,-83.96 120.03,-74.44\"/>\n<polygon fill=\"black\" stroke=\"black\" points=\"121.76,-71.37 111.62,-68.3 117.63,-77.02 121.76,-71.37\"/>\n</g>\n<!-- 4 -->\n<g id=\"node5\" class=\"node\">\n<title>4</title>\n<path fill=\"#e88e4d\" stroke=\"black\" d=\"M270,-68C270,-68 162,-68 162,-68 156,-68 150,-62 150,-56 150,-56 150,-12 150,-12 150,-6 156,0 162,0 162,0 270,0 270,0 276,0 282,-6 282,-12 282,-12 282,-56 282,-56 282,-62 276,-68 270,-68\"/>\n<text text-anchor=\"middle\" x=\"216\" y=\"-52.8\" font-family=\"Helvetica,sans-Serif\" font-size=\"14.00\">gini = 0.165</text>\n<text text-anchor=\"middle\" x=\"216\" y=\"-37.8\" font-family=\"Helvetica,sans-Serif\" font-size=\"14.00\">samples = 2039</text>\n<text text-anchor=\"middle\" x=\"216\" y=\"-22.8\" font-family=\"Helvetica,sans-Serif\" font-size=\"14.00\">value = [1854, 185]</text>\n<text text-anchor=\"middle\" x=\"216\" y=\"-7.8\" font-family=\"Helvetica,sans-Serif\" font-size=\"14.00\">class = não</text>\n</g>\n<!-- 2&#45;&gt;4 -->\n<g id=\"edge4\" class=\"edge\">\n<title>2&#45;&gt;4</title>\n<path fill=\"none\" stroke=\"black\" d=\"M216,-103.73C216,-95.52 216,-86.86 216,-78.56\"/>\n<polygon fill=\"black\" stroke=\"black\" points=\"219.5,-78.3 216,-68.3 212.5,-78.3 219.5,-78.3\"/>\n</g>\n<!-- 6 -->\n<g id=\"node7\" class=\"node\">\n<title>6</title>\n<path fill=\"#f8dbc6\" stroke=\"black\" d=\"M413.5,-68C413.5,-68 312.5,-68 312.5,-68 306.5,-68 300.5,-62 300.5,-56 300.5,-56 300.5,-12 300.5,-12 300.5,-6 306.5,0 312.5,0 312.5,0 413.5,0 413.5,0 419.5,0 425.5,-6 425.5,-12 425.5,-12 425.5,-56 425.5,-56 425.5,-62 419.5,-68 413.5,-68\"/>\n<text text-anchor=\"middle\" x=\"363\" y=\"-52.8\" font-family=\"Helvetica,sans-Serif\" font-size=\"14.00\">gini = 0.486</text>\n<text text-anchor=\"middle\" x=\"363\" y=\"-37.8\" font-family=\"Helvetica,sans-Serif\" font-size=\"14.00\">samples = 1425</text>\n<text text-anchor=\"middle\" x=\"363\" y=\"-22.8\" font-family=\"Helvetica,sans-Serif\" font-size=\"14.00\">value = [832, 593]</text>\n<text text-anchor=\"middle\" x=\"363\" y=\"-7.8\" font-family=\"Helvetica,sans-Serif\" font-size=\"14.00\">class = não</text>\n</g>\n<!-- 5&#45;&gt;6 -->\n<g id=\"edge6\" class=\"edge\">\n<title>5&#45;&gt;6</title>\n<path fill=\"none\" stroke=\"black\" d=\"M423.25,-103.73C415.34,-94.7 406.94,-85.12 399.02,-76.08\"/>\n<polygon fill=\"black\" stroke=\"black\" points=\"401.42,-73.51 392.19,-68.3 396.15,-78.13 401.42,-73.51\"/>\n</g>\n<!-- 7 -->\n<g id=\"node8\" class=\"node\">\n<title>7</title>\n<path fill=\"#399de5\" stroke=\"black\" d=\"M542,-68C542,-68 456,-68 456,-68 450,-68 444,-62 444,-56 444,-56 444,-12 444,-12 444,-6 450,0 456,0 456,0 542,0 542,0 548,0 554,-6 554,-12 554,-12 554,-56 554,-56 554,-62 548,-68 542,-68\"/>\n<text text-anchor=\"middle\" x=\"499\" y=\"-52.8\" font-family=\"Helvetica,sans-Serif\" font-size=\"14.00\">gini = 0.0</text>\n<text text-anchor=\"middle\" x=\"499\" y=\"-37.8\" font-family=\"Helvetica,sans-Serif\" font-size=\"14.00\">samples = 245</text>\n<text text-anchor=\"middle\" x=\"499\" y=\"-22.8\" font-family=\"Helvetica,sans-Serif\" font-size=\"14.00\">value = [0, 245]</text>\n<text text-anchor=\"middle\" x=\"499\" y=\"-7.8\" font-family=\"Helvetica,sans-Serif\" font-size=\"14.00\">class = sim</text>\n</g>\n<!-- 5&#45;&gt;7 -->\n<g id=\"edge7\" class=\"edge\">\n<title>5&#45;&gt;7</title>\n<path fill=\"none\" stroke=\"black\" d=\"M473.89,-103.73C476.99,-95.24 480.27,-86.28 483.39,-77.73\"/>\n<polygon fill=\"black\" stroke=\"black\" points=\"486.69,-78.89 486.84,-68.3 480.12,-76.49 486.69,-78.89\"/>\n</g>\n<!-- 9 -->\n<g id=\"node10\" class=\"node\">\n<title>9</title>\n<path fill=\"#62b1ea\" stroke=\"black\" d=\"M754.5,-187C754.5,-187 599.5,-187 599.5,-187 593.5,-187 587.5,-181 587.5,-175 587.5,-175 587.5,-116 587.5,-116 587.5,-110 593.5,-104 599.5,-104 599.5,-104 754.5,-104 754.5,-104 760.5,-104 766.5,-110 766.5,-116 766.5,-116 766.5,-175 766.5,-175 766.5,-181 760.5,-187 754.5,-187\"/>\n<text text-anchor=\"middle\" x=\"677\" y=\"-171.8\" font-family=\"Helvetica,sans-Serif\" font-size=\"14.00\">servicos_adquiridos &lt;= 1.5</text>\n<text text-anchor=\"middle\" x=\"677\" y=\"-156.8\" font-family=\"Helvetica,sans-Serif\" font-size=\"14.00\">gini = 0.284</text>\n<text text-anchor=\"middle\" x=\"677\" y=\"-141.8\" font-family=\"Helvetica,sans-Serif\" font-size=\"14.00\">samples = 4292</text>\n<text text-anchor=\"middle\" x=\"677\" y=\"-126.8\" font-family=\"Helvetica,sans-Serif\" font-size=\"14.00\">value = [734, 3558]</text>\n<text text-anchor=\"middle\" x=\"677\" y=\"-111.8\" font-family=\"Helvetica,sans-Serif\" font-size=\"14.00\">class = sim</text>\n</g>\n<!-- 8&#45;&gt;9 -->\n<g id=\"edge9\" class=\"edge\">\n<title>8&#45;&gt;9</title>\n<path fill=\"none\" stroke=\"black\" d=\"M677,-222.91C677,-214.65 677,-205.86 677,-197.3\"/>\n<polygon fill=\"black\" stroke=\"black\" points=\"680.5,-197.02 677,-187.02 673.5,-197.02 680.5,-197.02\"/>\n</g>\n<!-- 12 -->\n<g id=\"node13\" class=\"node\">\n<title>12</title>\n<path fill=\"#f7d7c0\" stroke=\"black\" d=\"M992.5,-187C992.5,-187 863.5,-187 863.5,-187 857.5,-187 851.5,-181 851.5,-175 851.5,-175 851.5,-116 851.5,-116 851.5,-110 857.5,-104 863.5,-104 863.5,-104 992.5,-104 992.5,-104 998.5,-104 1004.5,-110 1004.5,-116 1004.5,-116 1004.5,-175 1004.5,-175 1004.5,-181 998.5,-187 992.5,-187\"/>\n<text text-anchor=\"middle\" x=\"928\" y=\"-171.8\" font-family=\"Helvetica,sans-Serif\" font-size=\"14.00\">pais_Alemanha &lt;= 0.5</text>\n<text text-anchor=\"middle\" x=\"928\" y=\"-156.8\" font-family=\"Helvetica,sans-Serif\" font-size=\"14.00\">gini = 0.482</text>\n<text text-anchor=\"middle\" x=\"928\" y=\"-141.8\" font-family=\"Helvetica,sans-Serif\" font-size=\"14.00\">samples = 2016</text>\n<text text-anchor=\"middle\" x=\"928\" y=\"-126.8\" font-family=\"Helvetica,sans-Serif\" font-size=\"14.00\">value = [1199, 817]</text>\n<text text-anchor=\"middle\" x=\"928\" y=\"-111.8\" font-family=\"Helvetica,sans-Serif\" font-size=\"14.00\">class = não</text>\n</g>\n<!-- 8&#45;&gt;12 -->\n<g id=\"edge12\" class=\"edge\">\n<title>8&#45;&gt;12</title>\n<path fill=\"none\" stroke=\"black\" d=\"M750.27,-229.34C778.99,-215.96 812.15,-200.5 841.99,-186.59\"/>\n<polygon fill=\"black\" stroke=\"black\" points=\"843.55,-189.72 851.14,-182.33 840.6,-183.38 843.55,-189.72\"/>\n</g>\n<!-- 10 -->\n<g id=\"node11\" class=\"node\">\n<title>10</title>\n<path fill=\"#50a8e8\" stroke=\"black\" d=\"M692,-68C692,-68 584,-68 584,-68 578,-68 572,-62 572,-56 572,-56 572,-12 572,-12 572,-6 578,0 584,0 584,0 692,0 692,0 698,0 704,-6 704,-12 704,-12 704,-56 704,-56 704,-62 698,-68 692,-68\"/>\n<text text-anchor=\"middle\" x=\"638\" y=\"-52.8\" font-family=\"Helvetica,sans-Serif\" font-size=\"14.00\">gini = 0.185</text>\n<text text-anchor=\"middle\" x=\"638\" y=\"-37.8\" font-family=\"Helvetica,sans-Serif\" font-size=\"14.00\">samples = 3136</text>\n<text text-anchor=\"middle\" x=\"638\" y=\"-22.8\" font-family=\"Helvetica,sans-Serif\" font-size=\"14.00\">value = [324, 2812]</text>\n<text text-anchor=\"middle\" x=\"638\" y=\"-7.8\" font-family=\"Helvetica,sans-Serif\" font-size=\"14.00\">class = sim</text>\n</g>\n<!-- 9&#45;&gt;10 -->\n<g id=\"edge10\" class=\"edge\">\n<title>9&#45;&gt;10</title>\n<path fill=\"none\" stroke=\"black\" d=\"M662.48,-103.73C659.46,-95.24 656.26,-86.28 653.22,-77.73\"/>\n<polygon fill=\"black\" stroke=\"black\" points=\"656.51,-76.55 649.86,-68.3 649.92,-78.89 656.51,-76.55\"/>\n</g>\n<!-- 11 -->\n<g id=\"node12\" class=\"node\">\n<title>11</title>\n<path fill=\"#a6d3f3\" stroke=\"black\" d=\"M835.5,-68C835.5,-68 734.5,-68 734.5,-68 728.5,-68 722.5,-62 722.5,-56 722.5,-56 722.5,-12 722.5,-12 722.5,-6 728.5,0 734.5,0 734.5,0 835.5,0 835.5,0 841.5,0 847.5,-6 847.5,-12 847.5,-12 847.5,-56 847.5,-56 847.5,-62 841.5,-68 835.5,-68\"/>\n<text text-anchor=\"middle\" x=\"785\" y=\"-52.8\" font-family=\"Helvetica,sans-Serif\" font-size=\"14.00\">gini = 0.458</text>\n<text text-anchor=\"middle\" x=\"785\" y=\"-37.8\" font-family=\"Helvetica,sans-Serif\" font-size=\"14.00\">samples = 1156</text>\n<text text-anchor=\"middle\" x=\"785\" y=\"-22.8\" font-family=\"Helvetica,sans-Serif\" font-size=\"14.00\">value = [410, 746]</text>\n<text text-anchor=\"middle\" x=\"785\" y=\"-7.8\" font-family=\"Helvetica,sans-Serif\" font-size=\"14.00\">class = sim</text>\n</g>\n<!-- 9&#45;&gt;11 -->\n<g id=\"edge11\" class=\"edge\">\n<title>9&#45;&gt;11</title>\n<path fill=\"none\" stroke=\"black\" d=\"M717.22,-103.73C726.3,-94.51 735.94,-84.74 745.02,-75.53\"/>\n<polygon fill=\"black\" stroke=\"black\" points=\"747.63,-77.88 752.16,-68.3 742.64,-72.96 747.63,-77.88\"/>\n</g>\n<!-- 13 -->\n<g id=\"node14\" class=\"node\">\n<title>13</title>\n<path fill=\"#f0b68d\" stroke=\"black\" d=\"M978.5,-68C978.5,-68 877.5,-68 877.5,-68 871.5,-68 865.5,-62 865.5,-56 865.5,-56 865.5,-12 865.5,-12 865.5,-6 871.5,0 877.5,0 877.5,0 978.5,0 978.5,0 984.5,0 990.5,-6 990.5,-12 990.5,-12 990.5,-56 990.5,-56 990.5,-62 984.5,-68 978.5,-68\"/>\n<text text-anchor=\"middle\" x=\"928\" y=\"-52.8\" font-family=\"Helvetica,sans-Serif\" font-size=\"14.00\">gini = 0.417</text>\n<text text-anchor=\"middle\" x=\"928\" y=\"-37.8\" font-family=\"Helvetica,sans-Serif\" font-size=\"14.00\">samples = 1361</text>\n<text text-anchor=\"middle\" x=\"928\" y=\"-22.8\" font-family=\"Helvetica,sans-Serif\" font-size=\"14.00\">value = [957, 404]</text>\n<text text-anchor=\"middle\" x=\"928\" y=\"-7.8\" font-family=\"Helvetica,sans-Serif\" font-size=\"14.00\">class = não</text>\n</g>\n<!-- 12&#45;&gt;13 -->\n<g id=\"edge13\" class=\"edge\">\n<title>12&#45;&gt;13</title>\n<path fill=\"none\" stroke=\"black\" d=\"M928,-103.73C928,-95.52 928,-86.86 928,-78.56\"/>\n<polygon fill=\"black\" stroke=\"black\" points=\"931.5,-78.3 928,-68.3 924.5,-78.3 931.5,-78.3\"/>\n</g>\n<!-- 14 -->\n<g id=\"node15\" class=\"node\">\n<title>14</title>\n<path fill=\"#add6f4\" stroke=\"black\" d=\"M1121.5,-68C1121.5,-68 1020.5,-68 1020.5,-68 1014.5,-68 1008.5,-62 1008.5,-56 1008.5,-56 1008.5,-12 1008.5,-12 1008.5,-6 1014.5,0 1020.5,0 1020.5,0 1121.5,0 1121.5,0 1127.5,0 1133.5,-6 1133.5,-12 1133.5,-12 1133.5,-56 1133.5,-56 1133.5,-62 1127.5,-68 1121.5,-68\"/>\n<text text-anchor=\"middle\" x=\"1071\" y=\"-52.8\" font-family=\"Helvetica,sans-Serif\" font-size=\"14.00\">gini = 0.466</text>\n<text text-anchor=\"middle\" x=\"1071\" y=\"-37.8\" font-family=\"Helvetica,sans-Serif\" font-size=\"14.00\">samples = 655</text>\n<text text-anchor=\"middle\" x=\"1071\" y=\"-22.8\" font-family=\"Helvetica,sans-Serif\" font-size=\"14.00\">value = [242, 413]</text>\n<text text-anchor=\"middle\" x=\"1071\" y=\"-7.8\" font-family=\"Helvetica,sans-Serif\" font-size=\"14.00\">class = sim</text>\n</g>\n<!-- 12&#45;&gt;14 -->\n<g id=\"edge14\" class=\"edge\">\n<title>12&#45;&gt;14</title>\n<path fill=\"none\" stroke=\"black\" d=\"M981.25,-103.73C993.75,-94.15 1007.06,-83.96 1019.49,-74.44\"/>\n<polygon fill=\"black\" stroke=\"black\" points=\"1021.7,-77.16 1027.51,-68.3 1017.45,-71.6 1021.7,-77.16\"/>\n</g>\n</g>\n</svg>\n",
            "text/plain": [
              "<graphviz.sources.Source at 0x7af258237c10>"
            ]
          },
          "metadata": {},
          "execution_count": 46
        }
      ]
    },
    {
      "cell_type": "markdown",
      "source": [
        "# 6 Validação dos modelos"
      ],
      "metadata": {
        "id": "lfmj_l6ztF5J"
      }
    },
    {
      "cell_type": "markdown",
      "source": [
        "## 6.1 - Matriz de confusão\n",
        "\n"
      ],
      "metadata": {
        "id": "5LcpGgohtOM5"
      }
    },
    {
      "cell_type": "markdown",
      "source": [
        "![image.png](data:image/png;base64,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)"
      ],
      "metadata": {
        "id": "BbHrkrAnxhmv"
      }
    },
    {
      "cell_type": "code",
      "source": [
        "#Matriz de confusão\n",
        "from sklearn.metrics import confusion_matrix\n",
        "mc_svc = confusion_matrix(y_test, previsoes_svc) # SVC\n",
        "mc_knn = confusion_matrix(y_test, previsoes_knn) #Knn\n",
        "mc_mnb = confusion_matrix(y_test, previsoes_mnb) #Naive bayes\n",
        "mc_dtc = confusion_matrix(y_test, previsoes_dtc) #Árvore de decisão\n",
        "print(mc_svc, mc_knn, mc_mnb, mc_dtc)"
      ],
      "metadata": {
        "id": "Er78PMzLV2k5",
        "colab": {
          "base_uri": "https://localhost:8080/"
        },
        "outputId": "f6c7d130-3fbd-4d90-e107-1424d542528c"
      },
      "execution_count": 47,
      "outputs": [
        {
          "output_type": "stream",
          "name": "stdout",
          "text": [
            "[[1781  210]\n",
            " [ 340 1651]] [[1706  285]\n",
            " [ 312 1679]] [[ 881 1110]\n",
            " [ 625 1366]] [[1679  312]\n",
            " [ 629 1362]]\n"
          ]
        }
      ]
    },
    {
      "cell_type": "code",
      "source": [
        "import seaborn as sns\n",
        "import matplotlib.pyplot as plt\n",
        "import numpy as np\n",
        "\n",
        "def gerando_matriz(matriz_confusao, labels, categorias, cmap=\"viridis\"):\n",
        "    group_counts = [f\"{value}\" for value in matriz_confusao.flatten()]\n",
        "    labels = [f\"{v1}\" for v1 in labels]\n",
        "    lb = [f\"{v1}\\n{v2}\" for v1, v2 in zip(labels, group_counts)]\n",
        "    lb = np.asarray(lb).reshape(matriz_confusao.shape)\n",
        "\n",
        "    ax = plt.subplot()\n",
        "    sns.set(font_scale=1.1)\n",
        "    sns.heatmap(matriz_confusao, annot=lb, ax=ax, cmap=cmap, fmt=\"\", xticklabels=categorias,yticklabels=categorias)\n",
        "\n",
        "    label_font = {'size':'12'}\n",
        "    ax.set_xlabel('Valores preditos', fontdict=label_font);\n",
        "    ax.set_ylabel('Valores verdadeiros', fontdict=label_font);\n",
        "\n",
        "    ax.tick_params(axis='both', which='major', labelsize=10)\n",
        "\n",
        "\n",
        "categorias = [\"0\", \"1\"]\n",
        "labels = ['Verdadeiro Negativo','Falso Positivo',\n",
        "          'Falso Negativo','Verdadeiro Positivo']"
      ],
      "metadata": {
        "id": "wd-zIk3SjeE7"
      },
      "execution_count": 48,
      "outputs": []
    },
    {
      "cell_type": "code",
      "source": [
        "#Chamando a Função\n",
        "gerando_matriz(mc_svc, labels, categorias, cmap=\"magma_r\")"
      ],
      "metadata": {
        "colab": {
          "base_uri": "https://localhost:8080/",
          "height": 453
        },
        "id": "THPDiYQLkQPr",
        "outputId": "c913009b-8bff-47ea-d6eb-542f33ca6a9a"
      },
      "execution_count": 49,
      "outputs": [
        {
          "output_type": "display_data",
          "data": {
            "text/plain": [
              "<Figure size 640x480 with 2 Axes>"
            ],
            "image/png": "[encoded data removed]"
          },
          "metadata": {}
        }
      ]
    },
    {
      "cell_type": "code",
      "source": [
        "gerando_matriz(mc_knn, labels, categorias, cmap=\"magma_r\")"
      ],
      "metadata": {
        "colab": {
          "base_uri": "https://localhost:8080/",
          "height": 457
        },
        "id": "5Q7oRoWmjmT8",
        "outputId": "b24ee496-52c8-46cd-f2b8-78b0bcb1f49d"
      },
      "execution_count": 50,
      "outputs": [
        {
          "output_type": "display_data",
          "data": {
            "text/plain": [
              "<Figure size 640x480 with 2 Axes>"
            ],
            "image/png": "[encoded data removed]"
          },
          "metadata": {}
        }
      ]
    },
    {
      "cell_type": "code",
      "source": [
        "gerando_matriz(mc_mnb, labels, categorias, cmap=\"magma_r\")"
      ],
      "metadata": {
        "colab": {
          "base_uri": "https://localhost:8080/",
          "height": 457
        },
        "id": "HCT6CExuj2-l",
        "outputId": "9a419e91-1210-4543-eaac-b1295df7117e"
      },
      "execution_count": 51,
      "outputs": [
        {
          "output_type": "display_data",
          "data": {
            "text/plain": [
              "<Figure size 640x480 with 2 Axes>"
            ],
            "image/png": "[encoded data removed]"
          },
          "metadata": {}
        }
      ]
    },
    {
      "cell_type": "code",
      "source": [
        "gerando_matriz(mc_dtc, labels, categorias, cmap=\"magma_r\")"
      ],
      "metadata": {
        "colab": {
          "base_uri": "https://localhost:8080/",
          "height": 457
        },
        "id": "p2APJ8Dxj8u7",
        "outputId": "69c66520-af83-433f-f68a-805122aeb6e3"
      },
      "execution_count": 53,
      "outputs": [
        {
          "output_type": "display_data",
          "data": {
            "text/plain": [
              "<Figure size 640x480 with 2 Axes>"
            ],
            "image/png": "[encoded data removed]"
          },
          "metadata": {}
        }
      ]
    },
    {
      "cell_type": "markdown",
      "source": [
        "## 5.2 - Acurácia\n",
        "A partir do calculo da matriz de confusão conseguimos inferir outras métricas, como por exemplo a acurária.\n",
        "\n",
        "\n",
        "\n",
        "\n",
        "$ACC$ = ${TP + TN \\over TP + FP + TN + FN}$"
      ],
      "metadata": {
        "id": "sQb7vnC12XUf"
      }
    },
    {
      "cell_type": "code",
      "source": [
        "from sklearn.metrics import accuracy_score\n",
        "\n",
        "print(accuracy_score(y_test, previsoes_svc))\n",
        "print(accuracy_score(y_test, previsoes_knn))\n",
        "print(accuracy_score(y_test, previsoes_mnb))\n",
        "print(accuracy_score(y_test, previsoes_dtc))"
      ],
      "metadata": {
        "id": "jbrrbykMV0aZ",
        "colab": {
          "base_uri": "https://localhost:8080/"
        },
        "outputId": "2e308ce4-d972-45ef-c3fa-6c150ae9536f"
      },
      "execution_count": 54,
      "outputs": [
        {
          "output_type": "stream",
          "name": "stdout",
          "text": [
            "0.861878453038674\n",
            "0.8500753390256153\n",
            "0.5642893018583627\n",
            "0.7636865896534405\n"
          ]
        }
      ]
    },
    {
      "cell_type": "markdown",
      "source": [
        "## 5.3 - Precisão\n",
        "\n",
        "Outra métrica importante é a precisão, que calcula quantos foram classificados corretamento como positivos ($TP$).\n",
        "\n",
        "$PS$ = ${TP \\over TP + FP}$"
      ],
      "metadata": {
        "id": "kfzcKhw42tmX"
      }
    },
    {
      "cell_type": "code",
      "source": [
        "from sklearn.metrics import precision_score\n",
        "\n",
        "print(precision_score(y_test, previsoes_svc))\n",
        "print(precision_score(y_test, previsoes_knn))\n",
        "print(precision_score(y_test, previsoes_mnb))\n",
        "print(precision_score(y_test, previsoes_dtc))"
      ],
      "metadata": {
        "id": "ARbi4Tv2V04f",
        "colab": {
          "base_uri": "https://localhost:8080/"
        },
        "outputId": "8027eb3d-4a2e-409f-8da4-efa962606b83"
      },
      "execution_count": 55,
      "outputs": [
        {
          "output_type": "stream",
          "name": "stdout",
          "text": [
            "0.8871574422353573\n",
            "0.854887983706721\n",
            "0.5516962843295639\n",
            "0.8136200716845878\n"
          ]
        }
      ]
    },
    {
      "cell_type": "markdown",
      "source": [
        "## 5.4 - Recall\n",
        "\n",
        "Outra métrica importante é a Recall ou revocação ou ainda sensibilidade, que calcula o quão bom o modelo está para classificar corretamente um resultado positivo ($TP$).\n",
        "\n",
        "$RC$ = ${TP \\over TP + FN}$"
      ],
      "metadata": {
        "id": "TW59AoyU3DvW"
      }
    },
    {
      "cell_type": "code",
      "source": [
        "from sklearn.metrics import recall_score\n",
        "\n",
        "print(recall_score(y_test, previsoes_svc))\n",
        "print(recall_score(y_test, previsoes_knn))\n",
        "print(recall_score(y_test, previsoes_mnb))\n",
        "print(recall_score(y_test, previsoes_dtc))"
      ],
      "metadata": {
        "id": "O9kax_eWV1bu",
        "colab": {
          "base_uri": "https://localhost:8080/"
        },
        "outputId": "0573cdd0-fcc3-4c68-d49c-a12991059218"
      },
      "execution_count": 56,
      "outputs": [
        {
          "output_type": "stream",
          "name": "stdout",
          "text": [
            "0.8292315419387243\n",
            "0.843294826720241\n",
            "0.6860873932697137\n",
            "0.6840783525866398\n"
          ]
        }
      ]
    },
    {
      "cell_type": "markdown",
      "source": [
        "## 5.5 - Escolhendo o melhor modelo\n"
      ],
      "metadata": {
        "id": "4O7N26Fg3XwI"
      }
    },
    {
      "cell_type": "code",
      "source": [
        "#Escolhendo o melhor modelo\n",
        "\n",
        "print ('O modelo com o melhor desempenho é o SVC', precision_score(y_test, previsoes_svc) * 100 )"
      ],
      "metadata": {
        "id": "6AxVzHhhV1w_",
        "colab": {
          "base_uri": "https://localhost:8080/"
        },
        "outputId": "2815c5ab-c66a-4686-d4e6-90a5ddb995c6"
      },
      "execution_count": 58,
      "outputs": [
        {
          "output_type": "stream",
          "name": "stdout",
          "text": [
            "O modelo com o melhor desempenho é o SVC 88.71574422353574\n"
          ]
        }
      ]
    }
  ]
}